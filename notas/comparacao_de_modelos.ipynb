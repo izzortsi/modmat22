{
 "cells": [
  {
   "cell_type": "markdown",
   "metadata": {},
   "source": [
    "Ajuste polinomial; grau do polinômiio versus número de amostras; overfitting e generalização do modelo ajustado"
   ]
  },
  {
   "cell_type": "markdown",
   "metadata": {},
   "source": [
    "# Comparação de modelos\n",
    "\n",
    "Revisar campo conservativo, potencial; gradiente etc\n",
    "Discussão sobre teoria da informação; ver alguns conceitos básicos."
   ]
  },
  {
   "cell_type": "markdown",
   "metadata": {},
   "source": [
    "# Mecânica\n",
    "\n",
    "## Mecânica newtoniana\n",
    "\n",
    "## Mecânica lagrangiana\n",
    "\n",
    "comparação entre as formalizações lagrangiana e newtoniana;  \\\n",
    "forças conservativas; \\\n",
    "caso newtoniano: $m \\ddot{\\mathbf{r}} = \\mathbf{F} = -\\nabla V $ vs caso lagrangiano: $ L(t, \\mathbf{r}, \\dot{\\mathbf{r}}) = \\frac{1}{2} m \\dot{\\mathbf{r}} - V(\\mathbf{r})$. \\\n",
    "Teorema Fundamental do Cálculo das Variações; Equações de Euler-Lagrange.\n",
    "Ver Multiplicador de Lagrange.\n"
   ]
  },
  {
   "cell_type": "markdown",
   "metadata": {},
   "source": []
  }
 ],
 "metadata": {
  "kernelspec": {
   "display_name": "Julia 1.7.2",
   "language": "julia",
   "name": "julia-1.7"
  },
  "language_info": {
   "file_extension": ".jl",
   "mimetype": "application/julia",
   "name": "julia",
   "version": "1.7.2"
  },
  "orig_nbformat": 4
 },
 "nbformat": 4,
 "nbformat_minor": 2
}
