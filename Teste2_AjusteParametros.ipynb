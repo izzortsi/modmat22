{
 "cells": [
  {
   "cell_type": "markdown",
   "id": "b8f405cd",
   "metadata": {
    "deletable": false,
    "editable": false,
    "nbgrader": {
     "cell_type": "markdown",
     "checksum": "c92827318a8e998b92632513a9ae20d7",
     "grade": false,
     "grade_id": "cell-0fb9f4affae1e638",
     "locked": true,
     "schema_version": 3,
     "solution": false,
     "task": false
    }
   },
   "source": [
    "# Teste 2  - Ajuste de parâmetros\n",
    "\n",
    "Responda as questões abaixo.\n",
    "\n",
    "Não crie novas células nem apague células existentes. Apenas responda nas células indicadas.\n",
    "\n",
    "Escreva o texto em Markdown e LaTeX, conforme instruções em [Jupyter - Markdown cells](https://jupyter-notebook.readthedocs.io/en/stable/examples/Notebook/Working%20With%20Markdown%20Cells.html), e escreva os códigos em [Julia](https://julialang.org).\n",
    "\n",
    "Apenas os pacotes indicados na célula abaixo podem ser utilizados para responder às questões cujas respostas requerem códigos."
   ]
  },
  {
   "cell_type": "code",
   "execution_count": 5,
   "id": "cc65b0a5",
   "metadata": {
    "deletable": false,
    "editable": false,
    "nbgrader": {
     "cell_type": "code",
     "checksum": "5efb66bb2d995ff2fadee92e3eb6ba26",
     "grade": false,
     "grade_id": "cell-cde57ae452bcc489",
     "locked": true,
     "schema_version": 3,
     "solution": false,
     "task": false
    }
   },
   "outputs": [],
   "source": [
    "using LinearAlgebra\n",
    "using Statistics\n",
    "using Optim\n",
    "using Plots"
   ]
  },
  {
   "cell_type": "markdown",
   "id": "9aea26cc",
   "metadata": {
    "deletable": false,
    "editable": false,
    "nbgrader": {
     "cell_type": "markdown",
     "checksum": "40abb683717b417cc78e3defeef44f03",
     "grade": false,
     "grade_id": "cell-58ad590487d8b8a0",
     "locked": true,
     "schema_version": 3,
     "solution": false,
     "task": false
    }
   },
   "source": [
    "## Questão 1\n",
    "\n",
    "Suponha que tenhamos uma amostra de três medições $(x_i, y_i)$, $i=1,2,3,4$, e que queiramos determinar três parâmetros $\\beta = (\\beta_0, \\beta_1, \\beta_2)$ para que o modelo\n",
    "$$ \\hat y = \\beta_0 + \\beta_1 x + \\beta_2 x^2\n",
    "$$\n",
    "melhor se ajuste aos dados no sentido de minimizar a soma do quadrados dos resíduos $r_i = y_i - \\hat y_i$, onde $\\hat y_i = \\beta_0 + \\beta_1 x_i + \\beta_2 x_i^2$.\n",
    "\n",
    "Escreva, abaixo, uma condição nos dados da amostra que garanta que exista uma e somente uma solução para esse problema, ou seja, que exista um, e somente um, conjunto de parâmetros que minimize a soma dos quadrados dos resíduos."
   ]
  },
  {
   "cell_type": "markdown",
   "id": "432a82c7",
   "metadata": {
    "deletable": false,
    "nbgrader": {
     "cell_type": "markdown",
     "checksum": "2b9d250e5ff655f1b7f88c2935e49175",
     "grade": true,
     "grade_id": "cell-6116687273053247",
     "locked": false,
     "points": 4,
     "schema_version": 3,
     "solution": true,
     "task": false
    }
   },
   "source": [
    "Para que um sistema linear $A\\mathbf{x} = \\mathbf{b}$ qualquer tenha solução única, é necessário que seu núcleo seja trivial (garante a unicidade, mas não a existência), e que, denotando por $A_{*j}$ os vetores coluna de $A$, $b \\in \\mathrm{span}(A_{*j})$ -- o que garante a existência da solução. À primeira condição equivale dizer que $\\det A \\neq 0$; $A$ e $A^T$ são invertíveis; os $A_{*j}$ são linearmente independentes. Considerando que são três os parâmetros a se determinar, a matriz de Vandermonde associada a esse problema de mínimos quadrados tem que ter três colunas. Do contrário, o problema não está bem definido, o que se evidencia se considerada a forma normal do mesmo:\n",
    "\\begin{equation}\n",
    "A^TA\\boldsymbol{\\beta} = A^T\\mathbf{y}\n",
    "\\end{equation}\n",
    "Em particular, essas colunas têm de ser linearmente independentes, para que esteja garantida a unicidade da solução. Observe que, também devido a $(1)$, $A$ tem de ter três linhas, porquanto são três as amostras. Logo $A$ é quadrada, e, portanto, seu determinante é dado pela fórmula:\n",
    "\\begin{equation*}\n",
    "\\det A = \\prod_{i<j} (x_j - x_i)\n",
    "\\end{equation*} \n",
    "que é diferente de zero se, e somente se, $x_i \\neq x_j$, para $i, j \\in \\{1, 2, 3\\}$, o que garante a independencia linear das colunas, a invertibilidade de $A$ e, por conseguinte, a unicidade da solução."
   ]
  },
  {
   "cell_type": "markdown",
   "id": "cc3a597f",
   "metadata": {
    "deletable": false,
    "editable": false,
    "nbgrader": {
     "cell_type": "markdown",
     "checksum": "5bdd61d3e2e3ae4d5652038b5abc42b5",
     "grade": false,
     "grade_id": "cell-ed9287a66e9ded9e",
     "locked": true,
     "schema_version": 3,
     "solution": false,
     "task": false
    }
   },
   "source": [
    "## Questão 2\n",
    "\n",
    "Considere o modelo da forma\n",
    "$$ y = \\frac{\\alpha x}{(1 + \\beta x)^3}.\n",
    "$$\n",
    "\n",
    "Ache uma mudança de variáveis que transforme esse modelo em um modelo linear nos (novos) parâmetros. Justifique o seu desenvolvimento, exibindo a mudança de variáveis e o modelo linear."
   ]
  },
  {
   "cell_type": "markdown",
   "id": "f46be723",
   "metadata": {
    "deletable": false,
    "nbgrader": {
     "cell_type": "markdown",
     "checksum": "2593970bbe9820f571a6174ccc28b0eb",
     "grade": true,
     "grade_id": "cell-c41d0d4572e6b45a",
     "locked": false,
     "points": 4,
     "schema_version": 3,
     "solution": true,
     "task": false
    }
   },
   "source": [
    "A mudança que achei é:\n",
    "\\begin{equation*}\n",
    "\\mathfrak{T}  : (y, x) \\mapsto (y, -\\frac{1}{1+ \\beta x})\n",
    "\\end{equation*}\n",
    "que, colocando $\\gamma = \\frac{\\alpha}{\\beta},\\ \\chi = -\\frac{1}{1+ \\beta x}$, dá o modelo\n",
    "\\begin{equation*}\n",
    "y = \\gamma\\chi + \\gamma\n",
    "\\end{equation*}\n",
    "que é linear em $\\gamma$.\n",
    "Pra isso, partindo de \n",
    "$$\n",
    "y = \\frac{\\alpha x}{(1 + \\beta x)^3}.\n",
    "$$\n",
    "tomei, primeiro,\n",
    "$$\n",
    "1 + \\beta x = \\eta; \\ x = \\frac{\\eta -1}{\\beta}\n",
    "$$\n",
    "o que leva a\n",
    "$$\n",
    "y = \\frac{\\alpha(\\eta - 1)}{\\beta\\eta} = \\frac{\\alpha}{\\beta}\\frac{(\\eta - 1)}{\\eta}\n",
    "$$\n",
    "donde, colocando $\\gamma = \\frac{\\alpha}{\\beta}$, obtemos\n",
    "$$\n",
    "y = \\gamma(1-\\frac{1}{\\eta})\n",
    "$$\n",
    "onde fazemos ainda outra mudança de variável, tomando $\\chi = -\\frac{1}{\\eta} = -\\frac{1}{1+ \\beta x}$. Fico incerto sobre se um parâmetro ($\\beta$) pode mesmo ser englobado na mudança de variável."
   ]
  },
  {
   "cell_type": "markdown",
   "id": "f682b492",
   "metadata": {
    "deletable": false,
    "editable": false,
    "nbgrader": {
     "cell_type": "markdown",
     "checksum": "9dc5bad6079242cd97b281e373a098d9",
     "grade": false,
     "grade_id": "cell-fefbed9bfd6d2f04",
     "locked": true,
     "schema_version": 3,
     "solution": false,
     "task": false
    }
   },
   "source": [
    "## Questão 3\n",
    "\n",
    "Em um ensaio de laboratório, foram testadas diferentes doses de uma nova droga em um certos indivíduos voluntários. Para cada nível de dosagem, 250 indivíduos foram expostos à droga e 250, a um placebo. O número de sucessos foi reportado:\n",
    "\n",
    "| dosagem | sucesso droga | sucesso placebo\n",
    "|:---:|:---:|:---:|\n",
    "| 1 | 29 | 5 |\n",
    "| 2 | 56 | 7 |\n",
    "| 3 | 85 | 8 |\n",
    "| 4 | 112 | 12 |\n",
    "| 5 | 134 | 11 |\n",
    "| 6 | 143 | 17 |\n",
    "\n",
    "Use o método de mínimos quadrados para encontrar os parâmetros $\\beta = (\\beta_0, \\beta_1)$ que melhor ajustam o modelo linear $y = \\beta_0 + \\beta_1 x$ aos dados acima de sucesso da droga, no sentido de minimizar a soma dos quadrados dos resíduos, onde $x=1,\\ldots, 6$ indica a dosagem e $y$ indica o número de sucesso nos que receberam a droga.\n",
    "\n",
    "1. Escreva, abaixo, o código para encontrar o vetor bidimensional $\\beta = [\\beta_0, \\beta_1]$ com esses parâmetros;\n",
    "2. Complete a definição da função $f(x)$ que retorna a estimativa do número de sucesso, para cada dosagem $x$, onde $x$ deve ser um número em ponto flutuante `Float64`.\n",
    "3. Use o pacote `Plots` para exibir um gráfico dos dados e do ajuste por esse modelo linear, com os parâmetros encontrados.\n",
    "\n",
    "A resposta de cada item acima deve estar em cada uma das células de código abaixo, conforme indicado."
   ]
  },
  {
   "cell_type": "code",
   "execution_count": 6,
   "id": "16994441",
   "metadata": {
    "deletable": false,
    "nbgrader": {
     "cell_type": "code",
     "checksum": "19d50e60ce8604362aec2c5336ea62e4",
     "grade": false,
     "grade_id": "cell-2e6ed5733a5f6de9",
     "locked": false,
     "schema_version": 3,
     "solution": true,
     "task": false
    }
   },
   "outputs": [
    {
     "name": "stdout",
     "output_type": "stream",
     "text": [
      "Os parâmetros do melhor ajuste são β₀ = 10.067 e β₁ = 23.743\n"
     ]
    }
   ],
   "source": [
    "# Resposta para o item 1 da questão 4 aqui\n",
    "yi = [] # número de sucessos\n",
    "β = [] # parâmetros\n",
    "# YOUR CODE HERE\n",
    "yi = [\n",
    "        29 \n",
    "        56 \n",
    "        85 \n",
    "        112\n",
    "        134\n",
    "        143\n",
    "    ] #.|> Float64\n",
    "\n",
    "A = [ones(6) collect(1:6)]\n",
    "β = inv(A' * A) * A' * yi\n",
    "println(\"Os parâmetros do melhor ajuste são β₀ = $(round(β[1], digits=3)) e β₁ = $(round(β[2], digits=3))\")"
   ]
  },
  {
   "cell_type": "code",
   "execution_count": 7,
   "id": "a1fa5e1a",
   "metadata": {
    "deletable": false,
    "editable": false,
    "nbgrader": {
     "cell_type": "code",
     "checksum": "071be5b71bebcc70f5a4f3f8b0243ec3",
     "grade": true,
     "grade_id": "cell-5bbb0cff3099cfdf",
     "locked": true,
     "points": 2,
     "schema_version": 3,
     "solution": false,
     "task": false
    }
   },
   "outputs": [],
   "source": [
    "@assert yi isa Vector\n",
    "@assert β isa Vector\n",
    "@assert length(β) == 2"
   ]
  },
  {
   "cell_type": "code",
   "execution_count": 14,
   "id": "76cfe62e",
   "metadata": {
    "deletable": false,
    "nbgrader": {
     "cell_type": "code",
     "checksum": "9ec4bfddaaa8b65892079e86b94a91db",
     "grade": false,
     "grade_id": "cell-8eb77fac9ed32b43",
     "locked": false,
     "schema_version": 3,
     "solution": true,
     "task": false
    }
   },
   "outputs": [
    {
     "data": {
      "text/plain": [
       "6-element Vector{Float64}:\n",
       " 1.0\n",
       " 2.0\n",
       " 3.0\n",
       " 4.0\n",
       " 5.0\n",
       " 6.0"
      ]
     },
     "execution_count": 14,
     "metadata": {},
     "output_type": "execute_result"
    }
   ],
   "source": [
    "# Resposta para o item 2 da questão 4 aqui\n",
    "function f(x, β)\n",
    "    y = nothing\n",
    "# YOUR CODE HERE\n",
    "    y = sum(β[1]+β[2]*x)\n",
    "    return y\n",
    "end\n"
   ]
  },
  {
   "cell_type": "code",
   "execution_count": 9,
   "id": "faa95250",
   "metadata": {
    "deletable": false,
    "editable": false,
    "nbgrader": {
     "cell_type": "code",
     "checksum": "edb148b19a75e1e6fe936f32b752a7f8",
     "grade": true,
     "grade_id": "cell-80e46c56c03f59ad",
     "locked": true,
     "points": 1,
     "schema_version": 3,
     "solution": false,
     "task": false
    }
   },
   "outputs": [],
   "source": [
    "@assert f(1.0, [1.0, 2.0]) isa Float64"
   ]
  },
  {
   "cell_type": "code",
   "execution_count": 31,
   "id": "b0f5148a",
   "metadata": {
    "deletable": false,
    "nbgrader": {
     "cell_type": "code",
     "checksum": "87e35df9db291ed2bd1ec27d98ea54ef",
     "grade": true,
     "grade_id": "cell-eb5b11701235f8c4",
     "locked": false,
     "points": 1,
     "schema_version": 3,
     "solution": true,
     "task": false
    }
   },
   "outputs": [
    {
     "data": {
      "image/svg+xml": "<?xml version=\"1.0\" encoding=\"utf-8\"?>\n<svg xmlns=\"http://www.w3.org/2000/svg\" xmlns:xlink=\"http://www.w3.org/1999/xlink\" width=\"600\" height=\"400\" viewBox=\"0 0 2400 1600\">\n<defs>\n  <clipPath id=\"clip420\">\n    <rect x=\"0\" y=\"0\" width=\"2400\" height=\"1600\"/>\n  </clipPath>\n</defs>\n<path clip-path=\"url(#clip420)\" d=\"\nM0 1600 L2400 1600 L2400 0 L0 0  Z\n  \" fill=\"#ffffff\" fill-rule=\"evenodd\" fill-opacity=\"1\"/>\n<defs>\n  <clipPath id=\"clip421\">\n    <rect x=\"480\" y=\"0\" width=\"1681\" height=\"1600\"/>\n  </clipPath>\n</defs>\n<path clip-path=\"url(#clip420)\" d=\"\nM170.857 1486.45 L2352.76 1486.45 L2352.76 106.192 L170.857 106.192  Z\n  \" fill=\"#ffffff\" fill-rule=\"evenodd\" fill-opacity=\"1\"/>\n<defs>\n  <clipPath id=\"clip422\">\n    <rect x=\"170\" y=\"106\" width=\"2183\" height=\"1381\"/>\n  </clipPath>\n</defs>\n<polyline clip-path=\"url(#clip422)\" style=\"stroke:#000000; stroke-linecap:butt; stroke-linejoin:round; stroke-width:2; stroke-opacity:0.1; fill:none\" points=\"\n  232.609,1486.45 232.609,106.192 \n  \"/>\n<polyline clip-path=\"url(#clip422)\" style=\"stroke:#000000; stroke-linecap:butt; stroke-linejoin:round; stroke-width:2; stroke-opacity:0.1; fill:none\" points=\"\n  644.288,1486.45 644.288,106.192 \n  \"/>\n<polyline clip-path=\"url(#clip422)\" style=\"stroke:#000000; stroke-linecap:butt; stroke-linejoin:round; stroke-width:2; stroke-opacity:0.1; fill:none\" points=\"\n  1055.97,1486.45 1055.97,106.192 \n  \"/>\n<polyline clip-path=\"url(#clip422)\" style=\"stroke:#000000; stroke-linecap:butt; stroke-linejoin:round; stroke-width:2; stroke-opacity:0.1; fill:none\" points=\"\n  1467.65,1486.45 1467.65,106.192 \n  \"/>\n<polyline clip-path=\"url(#clip422)\" style=\"stroke:#000000; stroke-linecap:butt; stroke-linejoin:round; stroke-width:2; stroke-opacity:0.1; fill:none\" points=\"\n  1879.33,1486.45 1879.33,106.192 \n  \"/>\n<polyline clip-path=\"url(#clip422)\" style=\"stroke:#000000; stroke-linecap:butt; stroke-linejoin:round; stroke-width:2; stroke-opacity:0.1; fill:none\" points=\"\n  2291,1486.45 2291,106.192 \n  \"/>\n<polyline clip-path=\"url(#clip420)\" style=\"stroke:#000000; stroke-linecap:butt; stroke-linejoin:round; stroke-width:4; stroke-opacity:1; fill:none\" points=\"\n  170.857,1486.45 2352.76,1486.45 \n  \"/>\n<polyline clip-path=\"url(#clip420)\" style=\"stroke:#000000; stroke-linecap:butt; stroke-linejoin:round; stroke-width:4; stroke-opacity:1; fill:none\" points=\"\n  232.609,1486.45 232.609,1467.55 \n  \"/>\n<polyline clip-path=\"url(#clip420)\" style=\"stroke:#000000; stroke-linecap:butt; stroke-linejoin:round; stroke-width:4; stroke-opacity:1; fill:none\" points=\"\n  644.288,1486.45 644.288,1467.55 \n  \"/>\n<polyline clip-path=\"url(#clip420)\" style=\"stroke:#000000; stroke-linecap:butt; stroke-linejoin:round; stroke-width:4; stroke-opacity:1; fill:none\" points=\"\n  1055.97,1486.45 1055.97,1467.55 \n  \"/>\n<polyline clip-path=\"url(#clip420)\" style=\"stroke:#000000; stroke-linecap:butt; stroke-linejoin:round; stroke-width:4; stroke-opacity:1; fill:none\" points=\"\n  1467.65,1486.45 1467.65,1467.55 \n  \"/>\n<polyline clip-path=\"url(#clip420)\" style=\"stroke:#000000; stroke-linecap:butt; stroke-linejoin:round; stroke-width:4; stroke-opacity:1; fill:none\" points=\"\n  1879.33,1486.45 1879.33,1467.55 \n  \"/>\n<polyline clip-path=\"url(#clip420)\" style=\"stroke:#000000; stroke-linecap:butt; stroke-linejoin:round; stroke-width:4; stroke-opacity:1; fill:none\" points=\"\n  2291,1486.45 2291,1467.55 \n  \"/>\n<path clip-path=\"url(#clip420)\" d=\"M222.991 1544.91 L230.63 1544.91 L230.63 1518.55 L222.32 1520.21 L222.32 1515.95 L230.584 1514.29 L235.26 1514.29 L235.26 1544.91 L242.899 1544.91 L242.899 1548.85 L222.991 1548.85 L222.991 1544.91 Z\" fill=\"#000000\" fill-rule=\"evenodd\" fill-opacity=\"1\" /><path clip-path=\"url(#clip420)\" d=\"M638.941 1544.91 L655.26 1544.91 L655.26 1548.85 L633.316 1548.85 L633.316 1544.91 Q635.978 1542.16 640.561 1537.53 Q645.168 1532.88 646.348 1531.53 Q648.594 1529.01 649.473 1527.27 Q650.376 1525.51 650.376 1523.82 Q650.376 1521.07 648.432 1519.33 Q646.51 1517.6 643.409 1517.6 Q641.21 1517.6 638.756 1518.36 Q636.325 1519.13 633.548 1520.68 L633.548 1515.95 Q636.372 1514.82 638.825 1514.24 Q641.279 1513.66 643.316 1513.66 Q648.686 1513.66 651.881 1516.35 Q655.075 1519.03 655.075 1523.52 Q655.075 1525.65 654.265 1527.57 Q653.478 1529.47 651.372 1532.07 Q650.793 1532.74 647.691 1535.95 Q644.589 1539.15 638.941 1544.91 Z\" fill=\"#000000\" fill-rule=\"evenodd\" fill-opacity=\"1\" /><path clip-path=\"url(#clip420)\" d=\"M1060.21 1530.21 Q1063.57 1530.93 1065.45 1533.2 Q1067.34 1535.47 1067.34 1538.8 Q1067.34 1543.92 1063.83 1546.72 Q1060.31 1549.52 1053.83 1549.52 Q1051.65 1549.52 1049.34 1549.08 Q1047.04 1548.66 1044.59 1547.81 L1044.59 1543.29 Q1046.53 1544.43 1048.85 1545.01 Q1051.16 1545.58 1053.69 1545.58 Q1058.09 1545.58 1060.38 1543.85 Q1062.69 1542.11 1062.69 1538.8 Q1062.69 1535.75 1060.54 1534.03 Q1058.41 1532.3 1054.59 1532.3 L1050.56 1532.3 L1050.56 1528.45 L1054.78 1528.45 Q1058.22 1528.45 1060.05 1527.09 Q1061.88 1525.7 1061.88 1523.11 Q1061.88 1520.45 1059.98 1519.03 Q1058.11 1517.6 1054.59 1517.6 Q1052.67 1517.6 1050.47 1518.01 Q1048.27 1518.43 1045.63 1519.31 L1045.63 1515.14 Q1048.29 1514.4 1050.61 1514.03 Q1052.95 1513.66 1055.01 1513.66 Q1060.33 1513.66 1063.43 1516.09 Q1066.53 1518.5 1066.53 1522.62 Q1066.53 1525.49 1064.89 1527.48 Q1063.25 1529.45 1060.21 1530.21 Z\" fill=\"#000000\" fill-rule=\"evenodd\" fill-opacity=\"1\" /><path clip-path=\"url(#clip420)\" d=\"M1470.66 1518.36 L1458.85 1536.81 L1470.66 1536.81 L1470.66 1518.36 M1469.43 1514.29 L1475.31 1514.29 L1475.31 1536.81 L1480.24 1536.81 L1480.24 1540.7 L1475.31 1540.7 L1475.31 1548.85 L1470.66 1548.85 L1470.66 1540.7 L1455.05 1540.7 L1455.05 1536.19 L1469.43 1514.29 Z\" fill=\"#000000\" fill-rule=\"evenodd\" fill-opacity=\"1\" /><path clip-path=\"url(#clip420)\" d=\"M1869.6 1514.29 L1887.96 1514.29 L1887.96 1518.22 L1873.89 1518.22 L1873.89 1526.7 Q1874.9 1526.35 1875.92 1526.19 Q1876.94 1526 1877.96 1526 Q1883.75 1526 1887.13 1529.17 Q1890.51 1532.34 1890.51 1537.76 Q1890.51 1543.34 1887.03 1546.44 Q1883.56 1549.52 1877.24 1549.52 Q1875.07 1549.52 1872.8 1549.15 Q1870.55 1548.78 1868.14 1548.04 L1868.14 1543.34 Q1870.23 1544.47 1872.45 1545.03 Q1874.67 1545.58 1877.15 1545.58 Q1881.15 1545.58 1883.49 1543.48 Q1885.83 1541.37 1885.83 1537.76 Q1885.83 1534.15 1883.49 1532.04 Q1881.15 1529.94 1877.15 1529.94 Q1875.27 1529.94 1873.4 1530.35 Q1871.55 1530.77 1869.6 1531.65 L1869.6 1514.29 Z\" fill=\"#000000\" fill-rule=\"evenodd\" fill-opacity=\"1\" /><path clip-path=\"url(#clip420)\" d=\"M2291.41 1529.7 Q2288.26 1529.7 2286.41 1531.86 Q2284.58 1534.01 2284.58 1537.76 Q2284.58 1541.49 2286.41 1543.66 Q2288.26 1545.82 2291.41 1545.82 Q2294.56 1545.82 2296.39 1543.66 Q2298.24 1541.49 2298.24 1537.76 Q2298.24 1534.01 2296.39 1531.86 Q2294.56 1529.7 2291.41 1529.7 M2300.69 1515.05 L2300.69 1519.31 Q2298.93 1518.48 2297.13 1518.04 Q2295.34 1517.6 2293.59 1517.6 Q2288.96 1517.6 2286.5 1520.72 Q2284.07 1523.85 2283.72 1530.17 Q2285.09 1528.15 2287.15 1527.09 Q2289.21 1526 2291.69 1526 Q2296.9 1526 2299.9 1529.17 Q2302.94 1532.32 2302.94 1537.76 Q2302.94 1543.08 2299.79 1546.3 Q2296.64 1549.52 2291.41 1549.52 Q2285.41 1549.52 2282.24 1544.94 Q2279.07 1540.33 2279.07 1531.6 Q2279.07 1523.41 2282.96 1518.55 Q2286.85 1513.66 2293.4 1513.66 Q2295.16 1513.66 2296.94 1514.01 Q2298.75 1514.36 2300.69 1515.05 Z\" fill=\"#000000\" fill-rule=\"evenodd\" fill-opacity=\"1\" /><polyline clip-path=\"url(#clip422)\" style=\"stroke:#000000; stroke-linecap:butt; stroke-linejoin:round; stroke-width:2; stroke-opacity:0.1; fill:none\" points=\"\n  170.857,1486.45 2352.76,1486.45 \n  \"/>\n<polyline clip-path=\"url(#clip422)\" style=\"stroke:#000000; stroke-linecap:butt; stroke-linejoin:round; stroke-width:2; stroke-opacity:0.1; fill:none\" points=\"\n  170.857,1210.4 2352.76,1210.4 \n  \"/>\n<polyline clip-path=\"url(#clip422)\" style=\"stroke:#000000; stroke-linecap:butt; stroke-linejoin:round; stroke-width:2; stroke-opacity:0.1; fill:none\" points=\"\n  170.857,934.346 2352.76,934.346 \n  \"/>\n<polyline clip-path=\"url(#clip422)\" style=\"stroke:#000000; stroke-linecap:butt; stroke-linejoin:round; stroke-width:2; stroke-opacity:0.1; fill:none\" points=\"\n  170.857,658.294 2352.76,658.294 \n  \"/>\n<polyline clip-path=\"url(#clip422)\" style=\"stroke:#000000; stroke-linecap:butt; stroke-linejoin:round; stroke-width:2; stroke-opacity:0.1; fill:none\" points=\"\n  170.857,382.243 2352.76,382.243 \n  \"/>\n<polyline clip-path=\"url(#clip422)\" style=\"stroke:#000000; stroke-linecap:butt; stroke-linejoin:round; stroke-width:2; stroke-opacity:0.1; fill:none\" points=\"\n  170.857,106.192 2352.76,106.192 \n  \"/>\n<polyline clip-path=\"url(#clip420)\" style=\"stroke:#000000; stroke-linecap:butt; stroke-linejoin:round; stroke-width:4; stroke-opacity:1; fill:none\" points=\"\n  170.857,1486.45 170.857,106.192 \n  \"/>\n<polyline clip-path=\"url(#clip420)\" style=\"stroke:#000000; stroke-linecap:butt; stroke-linejoin:round; stroke-width:4; stroke-opacity:1; fill:none\" points=\"\n  170.857,1486.45 189.755,1486.45 \n  \"/>\n<polyline clip-path=\"url(#clip420)\" style=\"stroke:#000000; stroke-linecap:butt; stroke-linejoin:round; stroke-width:4; stroke-opacity:1; fill:none\" points=\"\n  170.857,1210.4 189.755,1210.4 \n  \"/>\n<polyline clip-path=\"url(#clip420)\" style=\"stroke:#000000; stroke-linecap:butt; stroke-linejoin:round; stroke-width:4; stroke-opacity:1; fill:none\" points=\"\n  170.857,934.346 189.755,934.346 \n  \"/>\n<polyline clip-path=\"url(#clip420)\" style=\"stroke:#000000; stroke-linecap:butt; stroke-linejoin:round; stroke-width:4; stroke-opacity:1; fill:none\" points=\"\n  170.857,658.294 189.755,658.294 \n  \"/>\n<polyline clip-path=\"url(#clip420)\" style=\"stroke:#000000; stroke-linecap:butt; stroke-linejoin:round; stroke-width:4; stroke-opacity:1; fill:none\" points=\"\n  170.857,382.243 189.755,382.243 \n  \"/>\n<polyline clip-path=\"url(#clip420)\" style=\"stroke:#000000; stroke-linecap:butt; stroke-linejoin:round; stroke-width:4; stroke-opacity:1; fill:none\" points=\"\n  170.857,106.192 189.755,106.192 \n  \"/>\n<path clip-path=\"url(#clip420)\" d=\"M122.913 1472.25 Q119.302 1472.25 117.473 1475.81 Q115.668 1479.35 115.668 1486.48 Q115.668 1493.59 117.473 1497.15 Q119.302 1500.7 122.913 1500.7 Q126.547 1500.7 128.353 1497.15 Q130.182 1493.59 130.182 1486.48 Q130.182 1479.35 128.353 1475.81 Q126.547 1472.25 122.913 1472.25 M122.913 1468.54 Q128.723 1468.54 131.779 1473.15 Q134.857 1477.73 134.857 1486.48 Q134.857 1495.21 131.779 1499.82 Q128.723 1504.4 122.913 1504.4 Q117.103 1504.4 114.024 1499.82 Q110.969 1495.21 110.969 1486.48 Q110.969 1477.73 114.024 1473.15 Q117.103 1468.54 122.913 1468.54 Z\" fill=\"#000000\" fill-rule=\"evenodd\" fill-opacity=\"1\" /><path clip-path=\"url(#clip420)\" d=\"M82.7975 1193.12 L101.154 1193.12 L101.154 1197.05 L87.0799 1197.05 L87.0799 1205.52 Q88.0984 1205.18 89.1169 1205.01 Q90.1354 1204.83 91.1539 1204.83 Q96.941 1204.83 100.321 1208 Q103.7 1211.17 103.7 1216.59 Q103.7 1222.17 100.228 1225.27 Q96.7558 1228.35 90.4364 1228.35 Q88.2604 1228.35 85.9919 1227.98 Q83.7466 1227.61 81.3392 1226.87 L81.3392 1222.17 Q83.4225 1223.3 85.6447 1223.86 Q87.8669 1224.41 90.3438 1224.41 Q94.3484 1224.41 96.6863 1222.31 Q99.0243 1220.2 99.0243 1216.59 Q99.0243 1212.98 96.6863 1210.87 Q94.3484 1208.76 90.3438 1208.76 Q88.4688 1208.76 86.5938 1209.18 Q84.7419 1209.6 82.7975 1210.48 L82.7975 1193.12 Z\" fill=\"#000000\" fill-rule=\"evenodd\" fill-opacity=\"1\" /><path clip-path=\"url(#clip420)\" d=\"M122.913 1196.2 Q119.302 1196.2 117.473 1199.76 Q115.668 1203.3 115.668 1210.43 Q115.668 1217.54 117.473 1221.1 Q119.302 1224.64 122.913 1224.64 Q126.547 1224.64 128.353 1221.1 Q130.182 1217.54 130.182 1210.43 Q130.182 1203.3 128.353 1199.76 Q126.547 1196.2 122.913 1196.2 M122.913 1192.49 Q128.723 1192.49 131.779 1197.1 Q134.857 1201.68 134.857 1210.43 Q134.857 1219.16 131.779 1223.76 Q128.723 1228.35 122.913 1228.35 Q117.103 1228.35 114.024 1223.76 Q110.969 1219.16 110.969 1210.43 Q110.969 1201.68 114.024 1197.1 Q117.103 1192.49 122.913 1192.49 Z\" fill=\"#000000\" fill-rule=\"evenodd\" fill-opacity=\"1\" /><path clip-path=\"url(#clip420)\" d=\"M53.3995 947.69 L61.0384 947.69 L61.0384 921.325 L52.7282 922.991 L52.7282 918.732 L60.9921 917.066 L65.668 917.066 L65.668 947.69 L73.3068 947.69 L73.3068 951.626 L53.3995 951.626 L53.3995 947.69 Z\" fill=\"#000000\" fill-rule=\"evenodd\" fill-opacity=\"1\" /><path clip-path=\"url(#clip420)\" d=\"M92.7512 920.144 Q89.1401 920.144 87.3114 923.709 Q85.5058 927.251 85.5058 934.38 Q85.5058 941.487 87.3114 945.052 Q89.1401 948.593 92.7512 948.593 Q96.3854 948.593 98.1909 945.052 Q100.02 941.487 100.02 934.38 Q100.02 927.251 98.1909 923.709 Q96.3854 920.144 92.7512 920.144 M92.7512 916.441 Q98.5613 916.441 101.617 921.047 Q104.696 925.63 104.696 934.38 Q104.696 943.107 101.617 947.714 Q98.5613 952.297 92.7512 952.297 Q86.941 952.297 83.8623 947.714 Q80.8068 943.107 80.8068 934.38 Q80.8068 925.63 83.8623 921.047 Q86.941 916.441 92.7512 916.441 Z\" fill=\"#000000\" fill-rule=\"evenodd\" fill-opacity=\"1\" /><path clip-path=\"url(#clip420)\" d=\"M122.913 920.144 Q119.302 920.144 117.473 923.709 Q115.668 927.251 115.668 934.38 Q115.668 941.487 117.473 945.052 Q119.302 948.593 122.913 948.593 Q126.547 948.593 128.353 945.052 Q130.182 941.487 130.182 934.38 Q130.182 927.251 128.353 923.709 Q126.547 920.144 122.913 920.144 M122.913 916.441 Q128.723 916.441 131.779 921.047 Q134.857 925.63 134.857 934.38 Q134.857 943.107 131.779 947.714 Q128.723 952.297 122.913 952.297 Q117.103 952.297 114.024 947.714 Q110.969 943.107 110.969 934.38 Q110.969 925.63 114.024 921.047 Q117.103 916.441 122.913 916.441 Z\" fill=\"#000000\" fill-rule=\"evenodd\" fill-opacity=\"1\" /><path clip-path=\"url(#clip420)\" d=\"M53.3995 671.639 L61.0384 671.639 L61.0384 645.274 L52.7282 646.94 L52.7282 642.681 L60.9921 641.014 L65.668 641.014 L65.668 671.639 L73.3068 671.639 L73.3068 675.574 L53.3995 675.574 L53.3995 671.639 Z\" fill=\"#000000\" fill-rule=\"evenodd\" fill-opacity=\"1\" /><path clip-path=\"url(#clip420)\" d=\"M82.7975 641.014 L101.154 641.014 L101.154 644.95 L87.0799 644.95 L87.0799 653.422 Q88.0984 653.075 89.1169 652.913 Q90.1354 652.727 91.1539 652.727 Q96.941 652.727 100.321 655.899 Q103.7 659.07 103.7 664.487 Q103.7 670.065 100.228 673.167 Q96.7558 676.246 90.4364 676.246 Q88.2604 676.246 85.9919 675.875 Q83.7466 675.505 81.3392 674.764 L81.3392 670.065 Q83.4225 671.199 85.6447 671.755 Q87.8669 672.311 90.3438 672.311 Q94.3484 672.311 96.6863 670.204 Q99.0243 668.098 99.0243 664.487 Q99.0243 660.875 96.6863 658.769 Q94.3484 656.662 90.3438 656.662 Q88.4688 656.662 86.5938 657.079 Q84.7419 657.496 82.7975 658.375 L82.7975 641.014 Z\" fill=\"#000000\" fill-rule=\"evenodd\" fill-opacity=\"1\" /><path clip-path=\"url(#clip420)\" d=\"M122.913 644.093 Q119.302 644.093 117.473 647.658 Q115.668 651.2 115.668 658.329 Q115.668 665.436 117.473 669 Q119.302 672.542 122.913 672.542 Q126.547 672.542 128.353 669 Q130.182 665.436 130.182 658.329 Q130.182 651.2 128.353 647.658 Q126.547 644.093 122.913 644.093 M122.913 640.389 Q128.723 640.389 131.779 644.996 Q134.857 649.579 134.857 658.329 Q134.857 667.056 131.779 671.662 Q128.723 676.246 122.913 676.246 Q117.103 676.246 114.024 671.662 Q110.969 667.056 110.969 658.329 Q110.969 649.579 114.024 644.996 Q117.103 640.389 122.913 640.389 Z\" fill=\"#000000\" fill-rule=\"evenodd\" fill-opacity=\"1\" /><path clip-path=\"url(#clip420)\" d=\"M56.6171 395.588 L72.9365 395.588 L72.9365 399.523 L50.9921 399.523 L50.9921 395.588 Q53.6541 392.833 58.2375 388.204 Q62.8439 383.551 64.0245 382.209 Q66.2698 379.685 67.1494 377.949 Q68.0522 376.19 68.0522 374.5 Q68.0522 371.746 66.1078 370.01 Q64.1865 368.273 61.0847 368.273 Q58.8856 368.273 56.4319 369.037 Q54.0014 369.801 51.2236 371.352 L51.2236 366.63 Q54.0477 365.496 56.5014 364.917 Q58.955 364.338 60.9921 364.338 Q66.3624 364.338 69.5568 367.023 Q72.7513 369.709 72.7513 374.199 Q72.7513 376.329 71.9411 378.25 Q71.1541 380.148 69.0476 382.741 Q68.4689 383.412 65.367 386.63 Q62.2652 389.824 56.6171 395.588 Z\" fill=\"#000000\" fill-rule=\"evenodd\" fill-opacity=\"1\" /><path clip-path=\"url(#clip420)\" d=\"M92.7512 368.042 Q89.1401 368.042 87.3114 371.607 Q85.5058 375.148 85.5058 382.278 Q85.5058 389.384 87.3114 392.949 Q89.1401 396.491 92.7512 396.491 Q96.3854 396.491 98.1909 392.949 Q100.02 389.384 100.02 382.278 Q100.02 375.148 98.1909 371.607 Q96.3854 368.042 92.7512 368.042 M92.7512 364.338 Q98.5613 364.338 101.617 368.945 Q104.696 373.528 104.696 382.278 Q104.696 391.005 101.617 395.611 Q98.5613 400.195 92.7512 400.195 Q86.941 400.195 83.8623 395.611 Q80.8068 391.005 80.8068 382.278 Q80.8068 373.528 83.8623 368.945 Q86.941 364.338 92.7512 364.338 Z\" fill=\"#000000\" fill-rule=\"evenodd\" fill-opacity=\"1\" /><path clip-path=\"url(#clip420)\" d=\"M122.913 368.042 Q119.302 368.042 117.473 371.607 Q115.668 375.148 115.668 382.278 Q115.668 389.384 117.473 392.949 Q119.302 396.491 122.913 396.491 Q126.547 396.491 128.353 392.949 Q130.182 389.384 130.182 382.278 Q130.182 375.148 128.353 371.607 Q126.547 368.042 122.913 368.042 M122.913 364.338 Q128.723 364.338 131.779 368.945 Q134.857 373.528 134.857 382.278 Q134.857 391.005 131.779 395.611 Q128.723 400.195 122.913 400.195 Q117.103 400.195 114.024 395.611 Q110.969 391.005 110.969 382.278 Q110.969 373.528 114.024 368.945 Q117.103 364.338 122.913 364.338 Z\" fill=\"#000000\" fill-rule=\"evenodd\" fill-opacity=\"1\" /><path clip-path=\"url(#clip420)\" d=\"M56.6171 119.537 L72.9365 119.537 L72.9365 123.472 L50.9921 123.472 L50.9921 119.537 Q53.6541 116.782 58.2375 112.153 Q62.8439 107.5 64.0245 106.157 Q66.2698 103.634 67.1494 101.898 Q68.0522 100.139 68.0522 98.4491 Q68.0522 95.6945 66.1078 93.9584 Q64.1865 92.2223 61.0847 92.2223 Q58.8856 92.2223 56.4319 92.9862 Q54.0014 93.7501 51.2236 95.301 L51.2236 90.5788 Q54.0477 89.4445 56.5014 88.8658 Q58.955 88.2871 60.9921 88.2871 Q66.3624 88.2871 69.5568 90.9723 Q72.7513 93.6575 72.7513 98.1482 Q72.7513 100.278 71.9411 102.199 Q71.1541 104.097 69.0476 106.69 Q68.4689 107.361 65.367 110.579 Q62.2652 113.773 56.6171 119.537 Z\" fill=\"#000000\" fill-rule=\"evenodd\" fill-opacity=\"1\" /><path clip-path=\"url(#clip420)\" d=\"M82.7975 88.9121 L101.154 88.9121 L101.154 92.8473 L87.0799 92.8473 L87.0799 101.319 Q88.0984 100.972 89.1169 100.81 Q90.1354 100.625 91.1539 100.625 Q96.941 100.625 100.321 103.796 Q103.7 106.968 103.7 112.384 Q103.7 117.963 100.228 121.065 Q96.7558 124.143 90.4364 124.143 Q88.2604 124.143 85.9919 123.773 Q83.7466 123.403 81.3392 122.662 L81.3392 117.963 Q83.4225 119.097 85.6447 119.653 Q87.8669 120.208 90.3438 120.208 Q94.3484 120.208 96.6863 118.102 Q99.0243 115.995 99.0243 112.384 Q99.0243 108.773 96.6863 106.667 Q94.3484 104.56 90.3438 104.56 Q88.4688 104.56 86.5938 104.977 Q84.7419 105.394 82.7975 106.273 L82.7975 88.9121 Z\" fill=\"#000000\" fill-rule=\"evenodd\" fill-opacity=\"1\" /><path clip-path=\"url(#clip420)\" d=\"M122.913 91.9908 Q119.302 91.9908 117.473 95.5556 Q115.668 99.0973 115.668 106.227 Q115.668 113.333 117.473 116.898 Q119.302 120.44 122.913 120.44 Q126.547 120.44 128.353 116.898 Q130.182 113.333 130.182 106.227 Q130.182 99.0973 128.353 95.5556 Q126.547 91.9908 122.913 91.9908 M122.913 88.2871 Q128.723 88.2871 131.779 92.8936 Q134.857 97.4769 134.857 106.227 Q134.857 114.954 131.779 119.56 Q128.723 124.143 122.913 124.143 Q117.103 124.143 114.024 119.56 Q110.969 114.954 110.969 106.227 Q110.969 97.4769 114.024 92.8936 Q117.103 88.2871 122.913 88.2871 Z\" fill=\"#000000\" fill-rule=\"evenodd\" fill-opacity=\"1\" /><path clip-path=\"url(#clip420)\" d=\"M801.421 13.4432 L801.421 47.0368 L808.482 47.0368 Q817.422 47.0368 821.56 42.9859 Q825.727 38.935 825.727 30.1966 Q825.727 21.5161 821.56 17.4941 Q817.422 13.4432 808.482 13.4432 L801.421 13.4432 M795.577 8.64 L807.585 8.64 Q820.142 8.64 826.016 13.8772 Q831.89 19.0855 831.89 30.1966 Q831.89 41.3655 825.987 46.6028 Q820.084 51.84 807.585 51.84 L795.577 51.84 L795.577 8.64 Z\" fill=\"#000000\" fill-rule=\"evenodd\" fill-opacity=\"1\" /><path clip-path=\"url(#clip420)\" d=\"M855.704 35.5496 Q849.251 35.5496 846.763 37.0253 Q844.274 38.501 844.274 42.06 Q844.274 44.8956 846.126 46.5738 Q848.007 48.2231 851.219 48.2231 Q855.646 48.2231 858.308 45.0981 Q860.999 41.9442 860.999 36.7359 L860.999 35.5496 L855.704 35.5496 M866.323 33.3505 L866.323 51.84 L860.999 51.84 L860.999 46.921 Q859.176 49.8724 856.456 51.2902 Q853.736 52.6791 849.801 52.6791 Q844.824 52.6791 841.873 49.9014 Q838.95 47.0947 838.95 42.4072 Q838.95 36.9385 842.596 34.1607 Q846.271 31.3829 853.533 31.3829 L860.999 31.3829 L860.999 30.8621 Q860.999 27.1874 858.568 25.1908 Q856.166 23.1654 851.797 23.1654 Q849.02 23.1654 846.386 23.8309 Q843.753 24.4964 841.323 25.8274 L841.323 20.9085 Q844.245 19.78 846.994 19.2302 Q849.743 18.6515 852.347 18.6515 Q859.378 18.6515 862.85 22.2973 Q866.323 25.9431 866.323 33.3505 Z\" fill=\"#000000\" fill-rule=\"evenodd\" fill-opacity=\"1\" /><path clip-path=\"url(#clip420)\" d=\"M898.614 24.3517 L898.614 6.81709 L903.938 6.81709 L903.938 51.84 L898.614 51.84 L898.614 46.9789 Q896.936 49.8724 894.361 51.2902 Q891.814 52.6791 888.226 52.6791 Q882.353 52.6791 878.649 47.9916 Q874.974 43.3042 874.974 35.6653 Q874.974 28.0265 878.649 23.339 Q882.353 18.6515 888.226 18.6515 Q891.814 18.6515 894.361 20.0693 Q896.936 21.4582 898.614 24.3517 M880.472 35.6653 Q880.472 41.5391 882.874 44.8956 Q885.304 48.2231 889.529 48.2231 Q893.753 48.2231 896.184 44.8956 Q898.614 41.5391 898.614 35.6653 Q898.614 29.7915 896.184 26.464 Q893.753 23.1075 889.529 23.1075 Q885.304 23.1075 882.874 26.464 Q880.472 29.7915 880.472 35.6653 Z\" fill=\"#000000\" fill-rule=\"evenodd\" fill-opacity=\"1\" /><path clip-path=\"url(#clip420)\" d=\"M927.462 23.1654 Q923.18 23.1654 920.692 26.5218 Q918.203 29.8494 918.203 35.6653 Q918.203 41.4813 920.663 44.8377 Q923.151 48.1653 927.462 48.1653 Q931.716 48.1653 934.204 44.8088 Q936.693 41.4523 936.693 35.6653 Q936.693 29.9072 934.204 26.5508 Q931.716 23.1654 927.462 23.1654 M927.462 18.6515 Q934.407 18.6515 938.371 23.1654 Q942.335 27.6792 942.335 35.6653 Q942.335 43.6225 938.371 48.1653 Q934.407 52.6791 927.462 52.6791 Q920.489 52.6791 916.525 48.1653 Q912.59 43.6225 912.59 35.6653 Q912.59 27.6792 916.525 23.1654 Q920.489 18.6515 927.462 18.6515 Z\" fill=\"#000000\" fill-rule=\"evenodd\" fill-opacity=\"1\" /><path clip-path=\"url(#clip420)\" d=\"M971.82 20.3876 L971.82 25.4223 Q969.563 24.2649 967.132 23.6862 Q964.702 23.1075 962.098 23.1075 Q958.134 23.1075 956.137 24.3228 Q954.169 25.5381 954.169 27.9686 Q954.169 29.8204 955.587 30.891 Q957.005 31.9327 961.287 32.8876 L963.11 33.2926 Q968.782 34.5079 971.154 36.7359 Q973.556 38.935 973.556 42.8991 Q973.556 47.4129 969.968 50.046 Q966.409 52.6791 960.159 52.6791 Q957.555 52.6791 954.719 52.1583 Q951.912 51.6664 948.788 50.6537 L948.788 45.156 Q951.739 46.6896 954.603 47.4708 Q957.468 48.2231 960.275 48.2231 Q964.036 48.2231 966.062 46.95 Q968.087 45.6479 968.087 43.3042 Q968.087 41.134 966.611 39.9766 Q965.165 38.8192 960.217 37.7486 L958.365 37.3146 Q953.417 36.273 951.218 34.1318 Q949.019 31.9616 949.019 28.2001 Q949.019 23.6283 952.26 21.1399 Q955.5 18.6515 961.461 18.6515 Q964.412 18.6515 967.017 19.0855 Q969.621 19.5196 971.82 20.3876 Z\" fill=\"#000000\" fill-rule=\"evenodd\" fill-opacity=\"1\" /><path clip-path=\"url(#clip420)\" d=\"M1028.59 34.3054 L1028.59 36.9095 L1004.11 36.9095 Q1004.46 42.4072 1007.41 45.3007 Q1010.39 48.1653 1015.69 48.1653 Q1018.75 48.1653 1021.62 47.4129 Q1024.51 46.6606 1027.35 45.156 L1027.35 50.1907 Q1024.48 51.406 1021.47 52.0425 Q1018.46 52.6791 1015.37 52.6791 Q1007.61 52.6791 1003.07 48.1653 Q998.556 43.6514 998.556 35.9547 Q998.556 27.9975 1002.84 23.339 Q1007.15 18.6515 1014.44 18.6515 Q1020.98 18.6515 1024.77 22.876 Q1028.59 27.0716 1028.59 34.3054 M1023.27 32.7429 Q1023.21 28.3737 1020.81 25.7695 Q1018.43 23.1654 1014.5 23.1654 Q1010.04 23.1654 1007.35 25.6827 Q1004.69 28.2001 1004.28 32.7718 L1023.27 32.7429 Z\" fill=\"#000000\" fill-rule=\"evenodd\" fill-opacity=\"1\" /><path clip-path=\"url(#clip420)\" d=\"M1081.4 25.6538 Q1083.39 22.0659 1086.17 20.3587 Q1088.95 18.6515 1092.71 18.6515 Q1097.77 18.6515 1100.52 22.2105 Q1103.27 25.7406 1103.27 32.2799 L1103.27 51.84 L1097.92 51.84 L1097.92 32.4535 Q1097.92 27.795 1096.27 25.5381 Q1094.62 23.2811 1091.23 23.2811 Q1087.1 23.2811 1084.7 26.03 Q1082.29 28.7788 1082.29 33.5241 L1082.29 51.84 L1076.94 51.84 L1076.94 32.4535 Q1076.94 27.7661 1075.29 25.5381 Q1073.64 23.2811 1070.2 23.2811 Q1066.12 23.2811 1063.72 26.0589 Q1061.32 28.8077 1061.32 33.5241 L1061.32 51.84 L1055.96 51.84 L1055.96 19.4328 L1061.32 19.4328 L1061.32 24.4675 Q1063.14 21.4872 1065.69 20.0693 Q1068.23 18.6515 1071.73 18.6515 Q1075.26 18.6515 1077.72 20.4455 Q1080.21 22.2395 1081.4 25.6538 Z\" fill=\"#000000\" fill-rule=\"evenodd\" fill-opacity=\"1\" /><path clip-path=\"url(#clip420)\" d=\"M1126.45 23.1654 Q1122.17 23.1654 1119.68 26.5218 Q1117.19 29.8494 1117.19 35.6653 Q1117.19 41.4813 1119.65 44.8377 Q1122.14 48.1653 1126.45 48.1653 Q1130.7 48.1653 1133.19 44.8088 Q1135.68 41.4523 1135.68 35.6653 Q1135.68 29.9072 1133.19 26.5508 Q1130.7 23.1654 1126.45 23.1654 M1126.45 18.6515 Q1133.39 18.6515 1137.36 23.1654 Q1141.32 27.6792 1141.32 35.6653 Q1141.32 43.6225 1137.36 48.1653 Q1133.39 52.6791 1126.45 52.6791 Q1119.48 52.6791 1115.51 48.1653 Q1111.58 43.6225 1111.58 35.6653 Q1111.58 27.6792 1115.51 23.1654 Q1119.48 18.6515 1126.45 18.6515 Z\" fill=\"#000000\" fill-rule=\"evenodd\" fill-opacity=\"1\" /><path clip-path=\"url(#clip420)\" d=\"M1171.47 24.3517 L1171.47 6.81709 L1176.8 6.81709 L1176.8 51.84 L1171.47 51.84 L1171.47 46.9789 Q1169.79 49.8724 1167.22 51.2902 Q1164.67 52.6791 1161.08 52.6791 Q1155.21 52.6791 1151.51 47.9916 Q1147.83 43.3042 1147.83 35.6653 Q1147.83 28.0265 1151.51 23.339 Q1155.21 18.6515 1161.08 18.6515 Q1164.67 18.6515 1167.22 20.0693 Q1169.79 21.4582 1171.47 24.3517 M1153.33 35.6653 Q1153.33 41.5391 1155.73 44.8956 Q1158.16 48.2231 1162.39 48.2231 Q1166.61 48.2231 1169.04 44.8956 Q1171.47 41.5391 1171.47 35.6653 Q1171.47 29.7915 1169.04 26.464 Q1166.61 23.1075 1162.39 23.1075 Q1158.16 23.1075 1155.73 26.464 Q1153.33 29.7915 1153.33 35.6653 Z\" fill=\"#000000\" fill-rule=\"evenodd\" fill-opacity=\"1\" /><path clip-path=\"url(#clip420)\" d=\"M1215.48 34.3054 L1215.48 36.9095 L1191 36.9095 Q1191.35 42.4072 1194.3 45.3007 Q1197.28 48.1653 1202.58 48.1653 Q1205.64 48.1653 1208.51 47.4129 Q1211.4 46.6606 1214.24 45.156 L1214.24 50.1907 Q1211.37 51.406 1208.36 52.0425 Q1205.35 52.6791 1202.26 52.6791 Q1194.5 52.6791 1189.96 48.1653 Q1185.45 43.6514 1185.45 35.9547 Q1185.45 27.9975 1189.73 23.339 Q1194.04 18.6515 1201.33 18.6515 Q1207.87 18.6515 1211.66 22.876 Q1215.48 27.0716 1215.48 34.3054 M1210.16 32.7429 Q1210.1 28.3737 1207.7 25.7695 Q1205.33 23.1654 1201.39 23.1654 Q1196.93 23.1654 1194.24 25.6827 Q1191.58 28.2001 1191.18 32.7718 L1210.16 32.7429 Z\" fill=\"#000000\" fill-rule=\"evenodd\" fill-opacity=\"1\" /><path clip-path=\"url(#clip420)\" d=\"M1224.22 6.81709 L1229.54 6.81709 L1229.54 51.84 L1224.22 51.84 L1224.22 6.81709 Z\" fill=\"#000000\" fill-rule=\"evenodd\" fill-opacity=\"1\" /><path clip-path=\"url(#clip420)\" d=\"M1253.24 23.1654 Q1248.96 23.1654 1246.47 26.5218 Q1243.98 29.8494 1243.98 35.6653 Q1243.98 41.4813 1246.44 44.8377 Q1248.93 48.1653 1253.24 48.1653 Q1257.5 48.1653 1259.98 44.8088 Q1262.47 41.4523 1262.47 35.6653 Q1262.47 29.9072 1259.98 26.5508 Q1257.5 23.1654 1253.24 23.1654 M1253.24 18.6515 Q1260.19 18.6515 1264.15 23.1654 Q1268.11 27.6792 1268.11 35.6653 Q1268.11 43.6225 1264.15 48.1653 Q1260.19 52.6791 1253.24 52.6791 Q1246.27 52.6791 1242.3 48.1653 Q1238.37 43.6225 1238.37 35.6653 Q1238.37 27.6792 1242.3 23.1654 Q1246.27 18.6515 1253.24 18.6515 Z\" fill=\"#000000\" fill-rule=\"evenodd\" fill-opacity=\"1\" /><path clip-path=\"url(#clip420)\" d=\"M1295.78 6.81709 L1301.1 6.81709 L1301.1 51.84 L1295.78 51.84 L1295.78 6.81709 Z\" fill=\"#000000\" fill-rule=\"evenodd\" fill-opacity=\"1\" /><path clip-path=\"url(#clip420)\" d=\"M1312.24 19.4328 L1317.56 19.4328 L1317.56 51.84 L1312.24 51.84 L1312.24 19.4328 M1312.24 6.81709 L1317.56 6.81709 L1317.56 13.559 L1312.24 13.559 L1312.24 6.81709 Z\" fill=\"#000000\" fill-rule=\"evenodd\" fill-opacity=\"1\" /><path clip-path=\"url(#clip420)\" d=\"M1355.64 32.2799 L1355.64 51.84 L1350.32 51.84 L1350.32 32.4535 Q1350.32 27.8529 1348.52 25.567 Q1346.73 23.2811 1343.14 23.2811 Q1338.83 23.2811 1336.34 26.03 Q1333.85 28.7788 1333.85 33.5241 L1333.85 51.84 L1328.5 51.84 L1328.5 19.4328 L1333.85 19.4328 L1333.85 24.4675 Q1335.76 21.545 1338.34 20.0983 Q1340.94 18.6515 1344.33 18.6515 Q1349.91 18.6515 1352.78 22.1237 Q1355.64 25.567 1355.64 32.2799 Z\" fill=\"#000000\" fill-rule=\"evenodd\" fill-opacity=\"1\" /><path clip-path=\"url(#clip420)\" d=\"M1393.98 34.3054 L1393.98 36.9095 L1369.5 36.9095 Q1369.85 42.4072 1372.8 45.3007 Q1375.78 48.1653 1381.08 48.1653 Q1384.14 48.1653 1387.01 47.4129 Q1389.9 46.6606 1392.74 45.156 L1392.74 50.1907 Q1389.87 51.406 1386.86 52.0425 Q1383.85 52.6791 1380.76 52.6791 Q1373 52.6791 1368.46 48.1653 Q1363.95 43.6514 1363.95 35.9547 Q1363.95 27.9975 1368.23 23.339 Q1372.54 18.6515 1379.83 18.6515 Q1386.37 18.6515 1390.16 22.876 Q1393.98 27.0716 1393.98 34.3054 M1388.66 32.7429 Q1388.6 28.3737 1386.2 25.7695 Q1383.83 23.1654 1379.89 23.1654 Q1375.43 23.1654 1372.74 25.6827 Q1370.08 28.2001 1369.68 32.7718 L1388.66 32.7429 Z\" fill=\"#000000\" fill-rule=\"evenodd\" fill-opacity=\"1\" /><path clip-path=\"url(#clip420)\" d=\"M1417.45 35.5496 Q1411 35.5496 1408.51 37.0253 Q1406.02 38.501 1406.02 42.06 Q1406.02 44.8956 1407.87 46.5738 Q1409.75 48.2231 1412.96 48.2231 Q1417.39 48.2231 1420.05 45.0981 Q1422.74 41.9442 1422.74 36.7359 L1422.74 35.5496 L1417.45 35.5496 M1428.07 33.3505 L1428.07 51.84 L1422.74 51.84 L1422.74 46.921 Q1420.92 49.8724 1418.2 51.2902 Q1415.48 52.6791 1411.55 52.6791 Q1406.57 52.6791 1403.62 49.9014 Q1400.69 47.0947 1400.69 42.4072 Q1400.69 36.9385 1404.34 34.1607 Q1408.02 31.3829 1415.28 31.3829 L1422.74 31.3829 L1422.74 30.8621 Q1422.74 27.1874 1420.31 25.1908 Q1417.91 23.1654 1413.54 23.1654 Q1410.76 23.1654 1408.13 23.8309 Q1405.5 24.4964 1403.07 25.8274 L1403.07 20.9085 Q1405.99 19.78 1408.74 19.2302 Q1411.49 18.6515 1414.09 18.6515 Q1421.12 18.6515 1424.6 22.2973 Q1428.07 25.9431 1428.07 33.3505 Z\" fill=\"#000000\" fill-rule=\"evenodd\" fill-opacity=\"1\" /><path clip-path=\"url(#clip420)\" d=\"M1457.81 24.4096 Q1456.92 23.8888 1455.84 23.6573 Q1454.8 23.3969 1453.53 23.3969 Q1449.02 23.3969 1446.59 26.3482 Q1444.18 29.2707 1444.18 34.7683 L1444.18 51.84 L1438.83 51.84 L1438.83 19.4328 L1444.18 19.4328 L1444.18 24.4675 Q1445.86 21.5161 1448.55 20.0983 Q1451.24 18.6515 1455.09 18.6515 Q1455.64 18.6515 1456.31 18.7383 Q1456.97 18.7962 1457.78 18.9409 L1457.81 24.4096 Z\" fill=\"#000000\" fill-rule=\"evenodd\" fill-opacity=\"1\" /><path clip-path=\"url(#clip420)\" d=\"M1496.96 35.5496 Q1490.51 35.5496 1488.02 37.0253 Q1485.53 38.501 1485.53 42.06 Q1485.53 44.8956 1487.38 46.5738 Q1489.26 48.2231 1492.48 48.2231 Q1496.9 48.2231 1499.57 45.0981 Q1502.26 41.9442 1502.26 36.7359 L1502.26 35.5496 L1496.96 35.5496 M1507.58 33.3505 L1507.58 51.84 L1502.26 51.84 L1502.26 46.921 Q1500.43 49.8724 1497.71 51.2902 Q1494.99 52.6791 1491.06 52.6791 Q1486.08 52.6791 1483.13 49.9014 Q1480.21 47.0947 1480.21 42.4072 Q1480.21 36.9385 1483.85 34.1607 Q1487.53 31.3829 1494.79 31.3829 L1502.26 31.3829 L1502.26 30.8621 Q1502.26 27.1874 1499.83 25.1908 Q1497.42 23.1654 1493.06 23.1654 Q1490.28 23.1654 1487.64 23.8309 Q1485.01 24.4964 1482.58 25.8274 L1482.58 20.9085 Q1485.5 19.78 1488.25 19.2302 Q1491 18.6515 1493.61 18.6515 Q1500.64 18.6515 1504.11 22.2973 Q1507.58 25.9431 1507.58 33.3505 Z\" fill=\"#000000\" fill-rule=\"evenodd\" fill-opacity=\"1\" /><path clip-path=\"url(#clip420)\" d=\"M1518.55 19.4328 L1523.87 19.4328 L1523.87 52.4187 Q1523.87 58.6108 1521.5 61.3886 Q1519.15 64.1663 1513.92 64.1663 L1511.89 64.1663 L1511.89 59.6525 L1513.31 59.6525 Q1516.35 59.6525 1517.45 58.2346 Q1518.55 56.8458 1518.55 52.4187 L1518.55 19.4328 M1518.55 6.81709 L1523.87 6.81709 L1523.87 13.559 L1518.55 13.559 L1518.55 6.81709 Z\" fill=\"#000000\" fill-rule=\"evenodd\" fill-opacity=\"1\" /><path clip-path=\"url(#clip420)\" d=\"M1534.46 39.0507 L1534.46 19.4328 L1539.79 19.4328 L1539.79 38.8482 Q1539.79 43.4488 1541.58 45.7636 Q1543.37 48.0495 1546.96 48.0495 Q1551.27 48.0495 1553.76 45.3007 Q1556.28 42.5519 1556.28 37.8065 L1556.28 19.4328 L1561.6 19.4328 L1561.6 51.84 L1556.28 51.84 L1556.28 46.8632 Q1554.34 49.8145 1551.76 51.2613 Q1549.22 52.6791 1545.83 52.6791 Q1540.25 52.6791 1537.35 49.2069 Q1534.46 45.7347 1534.46 39.0507 M1547.86 18.6515 L1547.86 18.6515 Z\" fill=\"#000000\" fill-rule=\"evenodd\" fill-opacity=\"1\" /><path clip-path=\"url(#clip420)\" d=\"M1593.23 20.3876 L1593.23 25.4223 Q1590.97 24.2649 1588.54 23.6862 Q1586.11 23.1075 1583.51 23.1075 Q1579.54 23.1075 1577.55 24.3228 Q1575.58 25.5381 1575.58 27.9686 Q1575.58 29.8204 1577 30.891 Q1578.41 31.9327 1582.7 32.8876 L1584.52 33.2926 Q1590.19 34.5079 1592.56 36.7359 Q1594.96 38.935 1594.96 42.8991 Q1594.96 47.4129 1591.38 50.046 Q1587.82 52.6791 1581.57 52.6791 Q1578.96 52.6791 1576.13 52.1583 Q1573.32 51.6664 1570.2 50.6537 L1570.2 45.156 Q1573.15 46.6896 1576.01 47.4708 Q1578.88 48.2231 1581.68 48.2231 Q1585.44 48.2231 1587.47 46.95 Q1589.5 45.6479 1589.5 43.3042 Q1589.5 41.134 1588.02 39.9766 Q1586.57 38.8192 1581.63 37.7486 L1579.77 37.3146 Q1574.83 36.273 1572.63 34.1318 Q1570.43 31.9616 1570.43 28.2001 Q1570.43 23.6283 1573.67 21.1399 Q1576.91 18.6515 1582.87 18.6515 Q1585.82 18.6515 1588.43 19.0855 Q1591.03 19.5196 1593.23 20.3876 Z\" fill=\"#000000\" fill-rule=\"evenodd\" fill-opacity=\"1\" /><path clip-path=\"url(#clip420)\" d=\"M1608.71 10.2314 L1608.71 19.4328 L1619.68 19.4328 L1619.68 23.5705 L1608.71 23.5705 L1608.71 41.163 Q1608.71 45.1271 1609.78 46.2555 Q1610.88 47.384 1614.21 47.384 L1619.68 47.384 L1619.68 51.84 L1614.21 51.84 Q1608.04 51.84 1605.7 49.5541 Q1603.36 47.2393 1603.36 41.163 L1603.36 23.5705 L1599.45 23.5705 L1599.45 19.4328 L1603.36 19.4328 L1603.36 10.2314 L1608.71 10.2314 Z\" fill=\"#000000\" fill-rule=\"evenodd\" fill-opacity=\"1\" /><path clip-path=\"url(#clip420)\" d=\"M1641.41 35.5496 Q1634.95 35.5496 1632.46 37.0253 Q1629.98 38.501 1629.98 42.06 Q1629.98 44.8956 1631.83 46.5738 Q1633.71 48.2231 1636.92 48.2231 Q1641.35 48.2231 1644.01 45.0981 Q1646.7 41.9442 1646.7 36.7359 L1646.7 35.5496 L1641.41 35.5496 M1652.02 33.3505 L1652.02 51.84 L1646.7 51.84 L1646.7 46.921 Q1644.88 49.8724 1642.16 51.2902 Q1639.44 52.6791 1635.5 52.6791 Q1630.53 52.6791 1627.57 49.9014 Q1624.65 47.0947 1624.65 42.4072 Q1624.65 36.9385 1628.3 34.1607 Q1631.97 31.3829 1639.24 31.3829 L1646.7 31.3829 L1646.7 30.8621 Q1646.7 27.1874 1644.27 25.1908 Q1641.87 23.1654 1637.5 23.1654 Q1634.72 23.1654 1632.09 23.8309 Q1629.46 24.4964 1627.02 25.8274 L1627.02 20.9085 Q1629.95 19.78 1632.7 19.2302 Q1635.44 18.6515 1638.05 18.6515 Q1645.08 18.6515 1648.55 22.2973 Q1652.02 25.9431 1652.02 33.3505 Z\" fill=\"#000000\" fill-rule=\"evenodd\" fill-opacity=\"1\" /><path clip-path=\"url(#clip420)\" d=\"M1684.32 24.3517 L1684.32 6.81709 L1689.64 6.81709 L1689.64 51.84 L1684.32 51.84 L1684.32 46.9789 Q1682.64 49.8724 1680.06 51.2902 Q1677.52 52.6791 1673.93 52.6791 Q1668.05 52.6791 1664.35 47.9916 Q1660.68 43.3042 1660.68 35.6653 Q1660.68 28.0265 1664.35 23.339 Q1668.05 18.6515 1673.93 18.6515 Q1677.52 18.6515 1680.06 20.0693 Q1682.64 21.4582 1684.32 24.3517 M1666.17 35.6653 Q1666.17 41.5391 1668.58 44.8956 Q1671.01 48.2231 1675.23 48.2231 Q1679.45 48.2231 1681.89 44.8956 Q1684.32 41.5391 1684.32 35.6653 Q1684.32 29.7915 1681.89 26.464 Q1679.45 23.1075 1675.23 23.1075 Q1671.01 23.1075 1668.58 26.464 Q1666.17 29.7915 1666.17 35.6653 Z\" fill=\"#000000\" fill-rule=\"evenodd\" fill-opacity=\"1\" /><path clip-path=\"url(#clip420)\" d=\"M1713.16 23.1654 Q1708.88 23.1654 1706.39 26.5218 Q1703.9 29.8494 1703.9 35.6653 Q1703.9 41.4813 1706.36 44.8377 Q1708.85 48.1653 1713.16 48.1653 Q1717.42 48.1653 1719.91 44.8088 Q1722.39 41.4523 1722.39 35.6653 Q1722.39 29.9072 1719.91 26.5508 Q1717.42 23.1654 1713.16 23.1654 M1713.16 18.6515 Q1720.11 18.6515 1724.07 23.1654 Q1728.04 27.6792 1728.04 35.6653 Q1728.04 43.6225 1724.07 48.1653 Q1720.11 52.6791 1713.16 52.6791 Q1706.19 52.6791 1702.23 48.1653 Q1698.29 43.6225 1698.29 35.6653 Q1698.29 27.6792 1702.23 23.1654 Q1706.19 18.6515 1713.16 18.6515 Z\" fill=\"#000000\" fill-rule=\"evenodd\" fill-opacity=\"1\" /><circle clip-path=\"url(#clip422)\" cx=\"232.609\" cy=\"1326.34\" r=\"14\" fill=\"#009af9\" fill-rule=\"evenodd\" fill-opacity=\"1\" stroke=\"#000000\" stroke-opacity=\"1\" stroke-width=\"3.2\"/>\n<circle clip-path=\"url(#clip422)\" cx=\"644.288\" cy=\"1177.27\" r=\"14\" fill=\"#009af9\" fill-rule=\"evenodd\" fill-opacity=\"1\" stroke=\"#000000\" stroke-opacity=\"1\" stroke-width=\"3.2\"/>\n<circle clip-path=\"url(#clip422)\" cx=\"1055.97\" cy=\"1017.16\" r=\"14\" fill=\"#009af9\" fill-rule=\"evenodd\" fill-opacity=\"1\" stroke=\"#000000\" stroke-opacity=\"1\" stroke-width=\"3.2\"/>\n<circle clip-path=\"url(#clip422)\" cx=\"1467.65\" cy=\"868.093\" r=\"14\" fill=\"#009af9\" fill-rule=\"evenodd\" fill-opacity=\"1\" stroke=\"#000000\" stroke-opacity=\"1\" stroke-width=\"3.2\"/>\n<circle clip-path=\"url(#clip422)\" cx=\"1879.33\" cy=\"746.631\" r=\"14\" fill=\"#009af9\" fill-rule=\"evenodd\" fill-opacity=\"1\" stroke=\"#000000\" stroke-opacity=\"1\" stroke-width=\"3.2\"/>\n<circle clip-path=\"url(#clip422)\" cx=\"2291\" cy=\"696.942\" r=\"14\" fill=\"#009af9\" fill-rule=\"evenodd\" fill-opacity=\"1\" stroke=\"#000000\" stroke-opacity=\"1\" stroke-width=\"3.2\"/>\n<polyline clip-path=\"url(#clip422)\" style=\"stroke:#e26f46; stroke-linecap:butt; stroke-linejoin:round; stroke-width:4; stroke-opacity:1; fill:none\" points=\"\n  232.609,1299.78 644.288,1168.7 1055.97,1037.61 1467.65,906.53 1879.33,775.445 2291,644.36 \n  \"/>\n<path clip-path=\"url(#clip420)\" d=\"\nM243.587 307.721 L782.917 307.721 L782.917 152.201 L243.587 152.201  Z\n  \" fill=\"#ffffff\" fill-rule=\"evenodd\" fill-opacity=\"1\"/>\n<polyline clip-path=\"url(#clip420)\" style=\"stroke:#000000; stroke-linecap:butt; stroke-linejoin:round; stroke-width:4; stroke-opacity:1; fill:none\" points=\"\n  243.587,307.721 782.917,307.721 782.917,152.201 243.587,152.201 243.587,307.721 \n  \"/>\n<circle clip-path=\"url(#clip420)\" cx=\"340.561\" cy=\"204.041\" r=\"23\" fill=\"#009af9\" fill-rule=\"evenodd\" fill-opacity=\"1\" stroke=\"#000000\" stroke-opacity=\"1\" stroke-width=\"5.12\"/>\n<path clip-path=\"url(#clip420)\" d=\"M442.21 190.603 L442.21 217.478 L447.858 217.478 Q455.011 217.478 458.321 214.237 Q461.654 210.997 461.654 204.006 Q461.654 197.062 458.321 193.844 Q455.011 190.603 447.858 190.603 L442.21 190.603 M437.534 186.761 L447.14 186.761 Q457.187 186.761 461.886 190.95 Q466.585 195.117 466.585 204.006 Q466.585 212.941 461.862 217.131 Q457.14 221.321 447.14 221.321 L437.534 221.321 L437.534 186.761 Z\" fill=\"#000000\" fill-rule=\"evenodd\" fill-opacity=\"1\" /><path clip-path=\"url(#clip420)\" d=\"M485.635 208.288 Q480.473 208.288 478.483 209.469 Q476.492 210.649 476.492 213.497 Q476.492 215.765 477.973 217.108 Q479.478 218.427 482.048 218.427 Q485.589 218.427 487.719 215.927 Q489.872 213.404 489.872 209.237 L489.872 208.288 L485.635 208.288 M494.131 206.529 L494.131 221.321 L489.872 221.321 L489.872 217.385 Q488.413 219.747 486.237 220.881 Q484.061 221.992 480.913 221.992 Q476.932 221.992 474.571 219.77 Q472.233 217.524 472.233 213.774 Q472.233 209.399 475.149 207.177 Q478.089 204.955 483.899 204.955 L489.872 204.955 L489.872 204.538 Q489.872 201.599 487.927 200.001 Q486.006 198.381 482.511 198.381 Q480.288 198.381 478.182 198.913 Q476.075 199.446 474.131 200.511 L474.131 196.575 Q476.469 195.673 478.668 195.233 Q480.867 194.77 482.95 194.77 Q488.575 194.77 491.353 197.687 Q494.131 200.603 494.131 206.529 Z\" fill=\"#000000\" fill-rule=\"evenodd\" fill-opacity=\"1\" /><path clip-path=\"url(#clip420)\" d=\"M519.964 199.33 L519.964 185.302 L524.223 185.302 L524.223 221.321 L519.964 221.321 L519.964 217.432 Q518.621 219.747 516.561 220.881 Q514.524 221.992 511.654 221.992 Q506.955 221.992 503.992 218.242 Q501.052 214.492 501.052 208.381 Q501.052 202.27 503.992 198.52 Q506.955 194.77 511.654 194.77 Q514.524 194.77 516.561 195.904 Q518.621 197.015 519.964 199.33 M505.45 208.381 Q505.45 213.08 507.371 215.765 Q509.316 218.427 512.696 218.427 Q516.075 218.427 518.02 215.765 Q519.964 213.08 519.964 208.381 Q519.964 203.682 518.02 201.02 Q516.075 198.335 512.696 198.335 Q509.316 198.335 507.371 201.02 Q505.45 203.682 505.45 208.381 Z\" fill=\"#000000\" fill-rule=\"evenodd\" fill-opacity=\"1\" /><path clip-path=\"url(#clip420)\" d=\"M543.043 198.381 Q539.617 198.381 537.626 201.066 Q535.635 203.728 535.635 208.381 Q535.635 213.034 537.603 215.719 Q539.594 218.381 543.043 218.381 Q546.445 218.381 548.436 215.696 Q550.427 213.011 550.427 208.381 Q550.427 203.774 548.436 201.089 Q546.445 198.381 543.043 198.381 M543.043 194.77 Q548.598 194.77 551.769 198.381 Q554.941 201.992 554.941 208.381 Q554.941 214.747 551.769 218.381 Q548.598 221.992 543.043 221.992 Q537.464 221.992 534.293 218.381 Q531.145 214.747 531.145 208.381 Q531.145 201.992 534.293 198.381 Q537.464 194.77 543.043 194.77 Z\" fill=\"#000000\" fill-rule=\"evenodd\" fill-opacity=\"1\" /><path clip-path=\"url(#clip420)\" d=\"M578.529 196.159 L578.529 200.187 Q576.723 199.261 574.779 198.798 Q572.834 198.335 570.751 198.335 Q567.579 198.335 565.982 199.307 Q564.408 200.279 564.408 202.224 Q564.408 203.705 565.542 204.561 Q566.677 205.395 570.103 206.159 L571.561 206.483 Q576.098 207.455 577.996 209.237 Q579.917 210.997 579.917 214.168 Q579.917 217.779 577.047 219.885 Q574.2 221.992 569.2 221.992 Q567.117 221.992 564.848 221.575 Q562.603 221.182 560.103 220.372 L560.103 215.973 Q562.464 217.2 564.755 217.825 Q567.047 218.427 569.292 218.427 Q572.302 218.427 573.922 217.409 Q575.542 216.367 575.542 214.492 Q575.542 212.756 574.362 211.83 Q573.204 210.904 569.246 210.048 L567.765 209.7 Q563.806 208.867 562.047 207.154 Q560.288 205.418 560.288 202.409 Q560.288 198.751 562.88 196.761 Q565.473 194.77 570.242 194.77 Q572.603 194.77 574.686 195.117 Q576.769 195.464 578.529 196.159 Z\" fill=\"#000000\" fill-rule=\"evenodd\" fill-opacity=\"1\" /><polyline clip-path=\"url(#clip420)\" style=\"stroke:#e26f46; stroke-linecap:butt; stroke-linejoin:round; stroke-width:4; stroke-opacity:1; fill:none\" points=\"\n  267.831,255.881 413.291,255.881 \n  \"/>\n<path clip-path=\"url(#clip420)\" d=\"M453.367 243.207 L447.025 260.406 L459.733 260.406 L453.367 243.207 M450.728 238.601 L456.029 238.601 L469.2 273.161 L464.339 273.161 L461.191 264.295 L445.613 264.295 L442.464 273.161 L437.534 273.161 L450.728 238.601 Z\" fill=\"#000000\" fill-rule=\"evenodd\" fill-opacity=\"1\" /><path clip-path=\"url(#clip420)\" d=\"M474.061 247.235 L478.321 247.235 L478.321 273.624 Q478.321 278.577 476.423 280.799 Q474.548 283.022 470.358 283.022 L468.737 283.022 L468.737 279.411 L469.872 279.411 Q472.302 279.411 473.182 278.276 Q474.061 277.165 474.061 273.624 L474.061 247.235 M474.061 237.142 L478.321 237.142 L478.321 242.536 L474.061 242.536 L474.061 237.142 Z\" fill=\"#000000\" fill-rule=\"evenodd\" fill-opacity=\"1\" /><path clip-path=\"url(#clip420)\" d=\"M486.793 262.929 L486.793 247.235 L491.052 247.235 L491.052 262.767 Q491.052 266.448 492.487 268.3 Q493.922 270.128 496.793 270.128 Q500.242 270.128 502.233 267.929 Q504.247 265.73 504.247 261.934 L504.247 247.235 L508.506 247.235 L508.506 273.161 L504.247 273.161 L504.247 269.179 Q502.696 271.54 500.635 272.698 Q498.598 273.832 495.89 273.832 Q491.422 273.832 489.108 271.054 Q486.793 268.276 486.793 262.929 M497.51 246.61 L497.51 246.61 Z\" fill=\"#000000\" fill-rule=\"evenodd\" fill-opacity=\"1\" /><path clip-path=\"url(#clip420)\" d=\"M533.807 247.999 L533.807 252.027 Q532.001 251.101 530.057 250.638 Q528.112 250.175 526.029 250.175 Q522.858 250.175 521.26 251.147 Q519.686 252.119 519.686 254.064 Q519.686 255.545 520.82 256.401 Q521.955 257.235 525.381 257.999 L526.839 258.323 Q531.376 259.295 533.274 261.077 Q535.195 262.837 535.195 266.008 Q535.195 269.619 532.325 271.725 Q529.478 273.832 524.478 273.832 Q522.395 273.832 520.126 273.415 Q517.881 273.022 515.381 272.212 L515.381 267.813 Q517.742 269.04 520.033 269.665 Q522.325 270.267 524.57 270.267 Q527.58 270.267 529.2 269.249 Q530.82 268.207 530.82 266.332 Q530.82 264.596 529.64 263.67 Q528.482 262.744 524.524 261.888 L523.043 261.54 Q519.084 260.707 517.325 258.994 Q515.566 257.258 515.566 254.249 Q515.566 250.591 518.158 248.601 Q520.751 246.61 525.52 246.61 Q527.881 246.61 529.964 246.957 Q532.047 247.304 533.807 247.999 Z\" fill=\"#000000\" fill-rule=\"evenodd\" fill-opacity=\"1\" /><path clip-path=\"url(#clip420)\" d=\"M546.191 239.874 L546.191 247.235 L554.964 247.235 L554.964 250.545 L546.191 250.545 L546.191 264.619 Q546.191 267.79 547.047 268.693 Q547.927 269.596 550.589 269.596 L554.964 269.596 L554.964 273.161 L550.589 273.161 Q545.658 273.161 543.783 271.332 Q541.908 269.48 541.908 264.619 L541.908 250.545 L538.783 250.545 L538.783 247.235 L541.908 247.235 L541.908 239.874 L546.191 239.874 Z\" fill=\"#000000\" fill-rule=\"evenodd\" fill-opacity=\"1\" /><path clip-path=\"url(#clip420)\" d=\"M582.741 259.133 L582.741 261.216 L563.158 261.216 Q563.436 265.614 565.797 267.929 Q568.181 270.221 572.417 270.221 Q574.871 270.221 577.163 269.619 Q579.478 269.017 581.746 267.813 L581.746 271.841 Q579.454 272.813 577.047 273.323 Q574.64 273.832 572.163 273.832 Q565.959 273.832 562.325 270.221 Q558.714 266.61 558.714 260.452 Q558.714 254.087 562.14 250.36 Q565.589 246.61 571.422 246.61 Q576.654 246.61 579.686 249.989 Q582.741 253.346 582.741 259.133 M578.482 257.883 Q578.436 254.388 576.515 252.304 Q574.616 250.221 571.468 250.221 Q567.904 250.221 565.751 252.235 Q563.621 254.249 563.297 257.906 L578.482 257.883 Z\" fill=\"#000000\" fill-rule=\"evenodd\" fill-opacity=\"1\" /><path clip-path=\"url(#clip420)\" d=\"M604.802 237.142 L609.061 237.142 L609.061 273.161 L604.802 273.161 L604.802 237.142 Z\" fill=\"#000000\" fill-rule=\"evenodd\" fill-opacity=\"1\" /><path clip-path=\"url(#clip420)\" d=\"M617.973 247.235 L622.232 247.235 L622.232 273.161 L617.973 273.161 L617.973 247.235 M617.973 237.142 L622.232 237.142 L622.232 242.536 L617.973 242.536 L617.973 237.142 Z\" fill=\"#000000\" fill-rule=\"evenodd\" fill-opacity=\"1\" /><path clip-path=\"url(#clip420)\" d=\"M652.695 257.513 L652.695 273.161 L648.436 273.161 L648.436 257.651 Q648.436 253.971 647 252.142 Q645.565 250.314 642.695 250.314 Q639.246 250.314 637.255 252.513 Q635.264 254.712 635.264 258.508 L635.264 273.161 L630.982 273.161 L630.982 247.235 L635.264 247.235 L635.264 251.263 Q636.792 248.925 638.852 247.767 Q640.936 246.61 643.644 246.61 Q648.111 246.61 650.403 249.388 Q652.695 252.142 652.695 257.513 Z\" fill=\"#000000\" fill-rule=\"evenodd\" fill-opacity=\"1\" /><path clip-path=\"url(#clip420)\" d=\"M683.366 259.133 L683.366 261.216 L663.783 261.216 Q664.06 265.614 666.422 267.929 Q668.806 270.221 673.042 270.221 Q675.496 270.221 677.787 269.619 Q680.102 269.017 682.371 267.813 L682.371 271.841 Q680.079 272.813 677.672 273.323 Q675.264 273.832 672.787 273.832 Q666.584 273.832 662.949 270.221 Q659.338 266.61 659.338 260.452 Q659.338 254.087 662.764 250.36 Q666.213 246.61 672.047 246.61 Q677.278 246.61 680.31 249.989 Q683.366 253.346 683.366 259.133 M679.107 257.883 Q679.06 254.388 677.139 252.304 Q675.241 250.221 672.093 250.221 Q668.528 250.221 666.375 252.235 Q664.246 254.249 663.922 257.906 L679.107 257.883 Z\" fill=\"#000000\" fill-rule=\"evenodd\" fill-opacity=\"1\" /><path clip-path=\"url(#clip420)\" d=\"M702.139 260.128 Q696.977 260.128 694.986 261.309 Q692.995 262.489 692.995 265.337 Q692.995 267.605 694.477 268.948 Q695.982 270.267 698.551 270.267 Q702.093 270.267 704.222 267.767 Q706.375 265.244 706.375 261.077 L706.375 260.128 L702.139 260.128 M710.634 258.369 L710.634 273.161 L706.375 273.161 L706.375 269.225 Q704.917 271.587 702.741 272.721 Q700.565 273.832 697.417 273.832 Q693.435 273.832 691.074 271.61 Q688.736 269.364 688.736 265.614 Q688.736 261.239 691.653 259.017 Q694.593 256.795 700.403 256.795 L706.375 256.795 L706.375 256.378 Q706.375 253.439 704.431 251.841 Q702.509 250.221 699.014 250.221 Q696.792 250.221 694.685 250.753 Q692.579 251.286 690.634 252.351 L690.634 248.415 Q692.972 247.513 695.171 247.073 Q697.37 246.61 699.454 246.61 Q705.079 246.61 707.857 249.527 Q710.634 252.443 710.634 258.369 Z\" fill=\"#000000\" fill-rule=\"evenodd\" fill-opacity=\"1\" /><path clip-path=\"url(#clip420)\" d=\"M734.43 251.216 Q733.713 250.8 732.856 250.614 Q732.023 250.406 731.005 250.406 Q727.393 250.406 725.449 252.767 Q723.528 255.105 723.528 259.503 L723.528 273.161 L719.245 273.161 L719.245 247.235 L723.528 247.235 L723.528 251.263 Q724.87 248.902 727.023 247.767 Q729.176 246.61 732.255 246.61 Q732.694 246.61 733.227 246.679 Q733.759 246.726 734.407 246.841 L734.43 251.216 Z\" fill=\"#000000\" fill-rule=\"evenodd\" fill-opacity=\"1\" /></svg>\n"
     },
     "execution_count": 31,
     "metadata": {},
     "output_type": "execute_result"
    }
   ],
   "source": [
    "# Resposta para o item 3 da questão 4 aqui\n",
    "# Use `plot!` e `scatter!` para traçar o ajuste e os dados \"em cima\" da figura criada a seguir\n",
    "# Use o argumento `label` para indicar os traçados de ajuste e de dados\n",
    "plot(ylim = (0.0, 250), title=\"Dados e modelo linear ajustado\", titlefont=10, legend=:topleft)\n",
    "# YOUR CODE HERE\n",
    "scatter!(A[:, 2], yi, label=\"Dados\")\n",
    "plot!(A[:, 2], (x -> f(x, β)).(A[:, 2]), label=\"Ajuste linear\")"
   ]
  },
  {
   "cell_type": "markdown",
   "id": "48016e8c",
   "metadata": {
    "deletable": false,
    "editable": false,
    "nbgrader": {
     "cell_type": "markdown",
     "checksum": "4d08c9b7030ec7042baa297a8127b720",
     "grade": false,
     "grade_id": "cell-3a5a02909661b31e",
     "locked": true,
     "schema_version": 3,
     "solution": false,
     "task": false
    }
   },
   "source": [
    "## Questão 4\n",
    "\n",
    "Queremos modelar um problema com valores escalares $z$ dependentes de duas variáveis $x$ e $y$ através de uma função da forma\n",
    "\n",
    "$$ z = \\frac{ \\alpha xy }{ 1 + \\gamma x + \\delta y }\n",
    "$$\n",
    "\n",
    "Foram feitas as seguintes medições.\n",
    "\n",
    "| x | y | z |\n",
    "| :--: | :---: | :---: |\n",
    "| 9.1 | 7.0 | 12.75 |\n",
    "| 0.7 | 1.2 | 1.11 |\n",
    "| 6.3 | 1.7 | 2.60 |\n",
    "| 5.7 | 3.2 | 4.59 |\n",
    "| 3.7 | 6.6 | 6.98 |\n",
    "| 2.7 | 3.7 | 3.69 |\n",
    "| 7.3 | 0.1 | 0.23 |\n",
    "| 2.3 | 7.5 | 4.90 |\n",
    "| 5.8 | 0.2 | 0.46 |\n",
    "| 1.0 | 4.3 | 2.51 |\n",
    "| 1.3 | 6.2 | 2.95 |\n",
    "| 3.6 | 1.5 | 2.64 |\n",
    "| 4.2 | 0.4 | 0.75 |\n",
    "| 5.8 | 7.4 | 7.47 |\n",
    "| 4.7 | 5.3 | 7.83 |\n",
    "| 5.7 | 3.7 | 4.73 |\n",
    "| 1.4 | 0.8 | 1.42 |\n",
    "| 1.7 | 9.5 | 4.90 |\n",
    "| 9.4 | 1.8 | 2.50 |\n",
    "| 0.4 | 3.6 | 0.79 |\n",
    "\n",
    "Queremos encontrar parâmetros $\\alpha$, $\\gamma$ e $\\delta$ que melhor ajustam o modelo aos dados indicados, no sentido de minimizar a soma dos quadrados dos resíduos.\n",
    " \n",
    "Assim como no modelo de Michaelis-Menten, a função acima pode ser transformada em um modelo linear em termos de parâmetros apropriados relacionados com os parâmetros acima e com mudanças adequadas nas variávels $x$, $y$ e $z$. Isso nos permite fazer o ajuste usando o método de mínimos quadrados. Também podemos fazer o ajuste do modelo na forma não linear, usando `Optim.jl`, por exemplo.\n",
    "\n",
    "Abaixo, temos uma célula de Markdown e duas células de código.\n",
    "\n",
    "1. Na primeira, deduza o modelo linear nos parâmetros conforme mencionado acima, indicando a relação das novas variáveis e dos novos parâmetros com as variáveis e parâmetros originais.\n",
    "\n",
    "1. Na segunda, obtenha os parâmetros $\\alpha=\\alpha_q$, $\\delta=\\delta_q$ e $\\gamma=\\gamma_q$  de melhor ajuste via mínimos quadrados usando a transformação mencionada acima e calcule a soma dos quadrados dos resíduos `rss_q` para o modelos ajustado.\n",
    "\n",
    "1. Na terceira, trabalhe diretamente com o modelo não-linear, obtenha os parâmetros $\\alpha=\\alpha_\\textrm{opt}$, $\\delta=\\delta_\\textrm{opt}$ e $\\gamma=\\gamma_\\textrm{opt}$ de melhor ajuste via `Optim.jl` e calcule a soma dos quadrados dos resíduos `rss_opt` para o modelos ajustado."
   ]
  },
  {
   "cell_type": "markdown",
   "id": "3c0c0442",
   "metadata": {
    "deletable": false,
    "nbgrader": {
     "cell_type": "markdown",
     "checksum": "002205b0098e4b03afe88eda6b27f613",
     "grade": true,
     "grade_id": "cell-f61232bac77569ea",
     "locked": false,
     "points": 2,
     "schema_version": 3,
     "solution": true,
     "task": false
    }
   },
   "source": [
    "Saindo de\n",
    "$$ z = \\frac{ \\alpha xy }{ 1 + \\gamma x + \\delta y }\n",
    "$$\n",
    "calculamos:\n",
    "$$\n",
    "\\frac{1}{z} = \\frac{ 1 + \\gamma x + \\delta y }{ \\alpha xy } = \\frac{1}{\\alpha x y} + \\frac{\\gamma}{\\alpha y} + \\frac{\\delta}{\\alpha x}\n",
    "$$\n",
    "Fazemos as substituições:\n",
    "\\begin{aligned}\n",
    "\\frac{1}{z} &= z^* \\\\\n",
    "\\frac{1}{x} &= x^* \\\\ \n",
    "\\frac{1}{y} &= y^* \\\\\n",
    "\\frac{1}{\\alpha} &= \\alpha^* \\\\\n",
    "\\frac{\\gamma}{\\alpha} &= \\mu \\\\\n",
    "\\frac{\\delta}{\\alpha} &= \\nu\n",
    "\\end{aligned}\n",
    "\n",
    "obtendo o modelo\n",
    "\n",
    "$$\n",
    "z^* = \\alpha^* x^* y^* + \\mu y^* + \\nu x^*\n",
    "$$\n",
    "linear nos parametros $\\alpha^*,\\ \\mu,\\ \\nu$."
   ]
  },
  {
   "cell_type": "code",
   "execution_count": 40,
   "id": "b3589ab1",
   "metadata": {
    "deletable": false,
    "nbgrader": {
     "cell_type": "code",
     "checksum": "136f2ba84080ba9c2c861f71751e74ad",
     "grade": false,
     "grade_id": "cell-2d2aa9f42ffc2b84",
     "locked": false,
     "schema_version": 3,
     "solution": true,
     "task": false
    }
   },
   "outputs": [
    {
     "name": "stdout",
     "output_type": "stream",
     "text": [
      "Solução via mínimos quadrados:\n",
      "    Parâmetros:\n",
      "        α_q = -102.766\n",
      "        γ_q = -42.724\n",
      "        δ_q = -44.308\n",
      "    Soma dos quadrados dos resíduos:\n",
      "        rss_q = 22.757\n"
     ]
    }
   ],
   "source": [
    "# Código para a sua resposta para o item 2 da questão 5, resolvendo via minimos quadrados, aqui nesta célula\n",
    "\n",
    "xyz = [\n",
    "    9.1 7.0 12.75;\n",
    "    0.7 1.2 1.11;\n",
    "    6.3 1.7 2.60;\n",
    "    5.7 3.2 4.59;\n",
    "    3.7 6.6 6.98;\n",
    "    2.7 3.7 3.69;\n",
    "    7.3 0.1 0.23;\n",
    "    2.3 7.5 4.90;\n",
    "    5.8 0.2 0.46;\n",
    "    1.0 4.3 2.51;\n",
    "    1.3 6.2 2.95;\n",
    "    3.6 1.5 2.64;\n",
    "    4.2 0.4 0.75;\n",
    "    5.8 7.4 7.47;\n",
    "    4.7 5.3 7.83;\n",
    "    5.7 3.7 4.73;\n",
    "    1.4 0.8 1.42;\n",
    "    1.7 9.5 4.90;\n",
    "    9.4 1.8 2.50;\n",
    "    0.4 3.6 0.79\n",
    "]\n",
    "\n",
    "α_q, γ_q, δ_q = nothing, nothing, nothing\n",
    "\n",
    "rss_q = nothing\n",
    "\n",
    "# YOUR CODE HERE\n",
    "\n",
    "x, y, z = xyz[:, 1], xyz[:, 2], xyz[:, 3]\n",
    "t₁(x, y, z) = x .^-1, y .^-1, z .^-1\n",
    "x_, y_, z_ = t₁(x, y, z)\n",
    "A = [ones(length(x)) x_ y_]\n",
    "β = inv(A' * A) * A' * z_\n",
    "\n",
    "α_q = β[1]^-1\n",
    "γ_q = β[2]*α_q\n",
    "δ_q = β[3]*α_q\n",
    "\n",
    "function compute_residues(x, y, z, α, γ, δ)\n",
    "        z_ = (α .* x .* y)./(1 .+ γ * x .+ δ*y)\n",
    "        return rss_q = sum((z-z_) .^2)\n",
    "end\n",
    "rss_q = compute_residues(x, y, z, α_q, γ_q, δ_q)\n",
    "\n",
    "println(\"Solução via mínimos quadrados:\")\n",
    "println(\"    Parâmetros:\n",
    "        α_q = $(round(α_q, digits=3))\n",
    "        γ_q = $(round(γ_q, digits=3))\n",
    "        δ_q = $(round(δ_q, digits=3))\")\n",
    "println(\"    Soma dos quadrados dos resíduos:\n",
    "        rss_q = $(round(rss_q, digits=3))\")"
   ]
  },
  {
   "cell_type": "code",
   "execution_count": 41,
   "id": "ce588ed8",
   "metadata": {
    "deletable": false,
    "editable": false,
    "nbgrader": {
     "cell_type": "code",
     "checksum": "c70636786077e7e7724ad30f7bf0f5b7",
     "grade": true,
     "grade_id": "cell-cc7be0f3d5030892",
     "locked": true,
     "points": 2,
     "schema_version": 3,
     "solution": false,
     "task": false
    }
   },
   "outputs": [],
   "source": [
    "@assert isassigned(Ref(rss_q))\n"
   ]
  },
  {
   "cell_type": "code",
   "execution_count": 49,
   "id": "fb5c23ce",
   "metadata": {
    "deletable": false,
    "nbgrader": {
     "cell_type": "code",
     "checksum": "0f67b0b8edb87321f93226129ff5d19b",
     "grade": false,
     "grade_id": "cell-c2e8ac6283da3106",
     "locked": false,
     "schema_version": 3,
     "solution": true,
     "task": false
    }
   },
   "outputs": [
    {
     "name": "stdout",
     "output_type": "stream",
     "text": [
      " * Status: failure (reached maximum number of iterations)\n",
      "\n",
      " * Candidate solution\n",
      "    Final objective value:     1.129711e+01\n",
      "\n",
      " * Found with\n",
      "    Algorithm:     Gradient Descent\n",
      "\n",
      " * Convergence measures\n",
      "    |x - x'|               = 5.46e-05 ≰ 0.0e+00\n",
      "    |x - x'|/|x'|          = 5.15e-05 ≰ 0.0e+00\n",
      "    |f(x) - f(x')|         = 2.99e-06 ≰ 0.0e+00\n",
      "    |f(x) - f(x')|/|f(x')| = 2.65e-07 ≰ 0.0e+00\n",
      "    |g(x)|                 = 7.74e-02 ≰ 1.0e-08\n",
      "\n",
      " * Work counters\n",
      "    Seconds run:   0  (vs limit Inf)\n",
      "    Iterations:    1000\n",
      "    f(x) calls:    2529\n",
      "    ∇f(x) calls:   2529\n",
      "\n",
      "[1.0611044500619506, 0.3933828905631369, 0.21124647200899724]\n",
      "Solução via \"Optim.jl\":\n",
      "    Parâmetros:\n",
      "        α_opt = 1.061\n",
      "        γ_opt = 0.393\n",
      "        δ_opt = 0.211\n",
      "    Soma dos quadrados dos resíduos:\n",
      "        rss_opt = 11.297\n"
     ]
    }
   ],
   "source": [
    "# Código para a sua resposta para o item 3 da questão 5, resolvendo via Optim, aqui nesta célula\n",
    "\n",
    "α_opt, γ_opt, δ_opt = nothing, nothing, nothing\n",
    "\n",
    "rss_opt = nothing\n",
    "\n",
    "# YOUR CODE HERE\n",
    "Z(x, y, α, γ, δ) = (α .* x .* y)./(1 .+ γ * x .+ δ*y)\n",
    "β₀ = [0.5, 0.5, 0.5]\n",
    "# β₀ = [α_opt, γ_opt, δ_opt]\n",
    "cost(β₀) = sum(abs2, z - Z(x, y, β₀[1], β₀[2], β₀[3]))\n",
    "res = optimize(cost, β₀, method=GradientDescent())\n",
    "β_opt = Optim.minimizer(res)\n",
    "println(res)\n",
    "println(β_opt)\n",
    "α_opt, γ_opt, δ_opt = β_opt\n",
    "rss_opt = compute_residues(x, y, z, α_opt, γ_opt, δ_opt)\n",
    "println(\"Solução via \\\"Optim.jl\\\":\")\n",
    "println(\"    Parâmetros:\n",
    "        α_opt = $(round(α_opt, digits=3))\n",
    "        γ_opt = $(round(γ_opt, digits=3))\n",
    "        δ_opt = $(round(δ_opt, digits=3))\")\n",
    "println(\"    Soma dos quadrados dos resíduos:\n",
    "        rss_opt = $(round(rss_opt, digits=3))\")"
   ]
  },
  {
   "cell_type": "code",
   "execution_count": 50,
   "id": "eb32ace5",
   "metadata": {
    "deletable": false,
    "editable": false,
    "nbgrader": {
     "cell_type": "code",
     "checksum": "1d4a51ef46c329dcee33c0c6f1e9095f",
     "grade": true,
     "grade_id": "cell-56e293d076f305d2",
     "locked": true,
     "points": 2,
     "schema_version": 3,
     "solution": false,
     "task": false
    }
   },
   "outputs": [],
   "source": [
    "@assert isassigned(Ref(rss_opt))\n"
   ]
  },
  {
   "cell_type": "code",
   "execution_count": null,
   "id": "4b47477d",
   "metadata": {},
   "outputs": [],
   "source": []
  }
 ],
 "metadata": {
  "kernelspec": {
   "display_name": "Julia 1.7.2",
   "language": "julia",
   "name": "julia-1.7"
  },
  "language_info": {
   "file_extension": ".jl",
   "mimetype": "application/julia",
   "name": "julia",
   "version": "1.7.2"
  }
 },
 "nbformat": 4,
 "nbformat_minor": 5
}
