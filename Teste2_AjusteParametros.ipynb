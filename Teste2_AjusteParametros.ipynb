{
 "cells": [
  {
   "cell_type": "markdown",
   "id": "b8f405cd",
   "metadata": {
    "deletable": false,
    "editable": false,
    "nbgrader": {
     "cell_type": "markdown",
     "checksum": "c92827318a8e998b92632513a9ae20d7",
     "grade": false,
     "grade_id": "cell-0fb9f4affae1e638",
     "locked": true,
     "schema_version": 3,
     "solution": false,
     "task": false
    }
   },
   "source": [
    "# Teste 2  - Ajuste de parâmetros\n",
    "\n",
    "Responda as questões abaixo.\n",
    "\n",
    "Não crie novas células nem apague células existentes. Apenas responda nas células indicadas.\n",
    "\n",
    "Escreva o texto em Markdown e LaTeX, conforme instruções em [Jupyter - Markdown cells](https://jupyter-notebook.readthedocs.io/en/stable/examples/Notebook/Working%20With%20Markdown%20Cells.html), e escreva os códigos em [Julia](https://julialang.org).\n",
    "\n",
    "Apenas os pacotes indicados na célula abaixo podem ser utilizados para responder às questões cujas respostas requerem códigos."
   ]
  },
  {
   "cell_type": "code",
   "execution_count": 2,
   "id": "cc65b0a5",
   "metadata": {
    "deletable": false,
    "editable": false,
    "nbgrader": {
     "cell_type": "code",
     "checksum": "5efb66bb2d995ff2fadee92e3eb6ba26",
     "grade": false,
     "grade_id": "cell-cde57ae452bcc489",
     "locked": true,
     "schema_version": 3,
     "solution": false,
     "task": false
    }
   },
   "outputs": [
    {
     "name": "stderr",
     "output_type": "stream",
     "text": [
      "┌ Info: Precompiling Plots [91a5bcdd-55d7-5caf-9e0b-520d859cae80]\n",
      "└ @ Base loading.jl:1423\n"
     ]
    }
   ],
   "source": [
    "using LinearAlgebra\n",
    "using Statistics\n",
    "using Optim\n",
    "using Plots"
   ]
  },
  {
   "cell_type": "markdown",
   "id": "9aea26cc",
   "metadata": {
    "deletable": false,
    "editable": false,
    "nbgrader": {
     "cell_type": "markdown",
     "checksum": "40abb683717b417cc78e3defeef44f03",
     "grade": false,
     "grade_id": "cell-58ad590487d8b8a0",
     "locked": true,
     "schema_version": 3,
     "solution": false,
     "task": false
    }
   },
   "source": [
    "## Questão 1\n",
    "\n",
    "Suponha que tenhamos uma amostra de três medições $(x_i, y_i)$, $i=1,2,3,4$, e que queiramos determinar três parâmetros $\\beta = (\\beta_0, \\beta_1, \\beta_2)$ para que o modelo\n",
    "$$ \\hat y = \\beta_0 + \\beta_1 x + \\beta_2 x^2\n",
    "$$\n",
    "melhor se ajuste aos dados no sentido de minimizar a soma do quadrados dos resíduos $r_i = y_i - \\hat y_i$, onde $\\hat y_i = \\beta_0 + \\beta_1 x_i + \\beta_2 x_i^2$.\n",
    "\n",
    "Escreva, abaixo, uma condição nos dados da amostra que garanta que exista uma e somente uma solução para esse problema, ou seja, que exista um, e somente um, conjunto de parâmetros que minimize a soma dos quadrados dos resíduos."
   ]
  },
  {
   "cell_type": "markdown",
   "id": "432a82c7",
   "metadata": {
    "deletable": false,
    "nbgrader": {
     "cell_type": "markdown",
     "checksum": "2b9d250e5ff655f1b7f88c2935e49175",
     "grade": true,
     "grade_id": "cell-6116687273053247",
     "locked": false,
     "points": 4,
     "schema_version": 3,
     "solution": true,
     "task": false
    }
   },
   "source": [
    "Para que um sistema linear $A\\mathbf{x} = \\mathbf{b}$ qualquer tenha solução única, é necessário que seu núcleo seja trivial (garante a unicidade, mas não a existência), e que, denotando por $A_{*j}$ os vetores coluna de $A$, $b \\in \\mathrm{span}(A_{*j})$ -- o que garante a existência da solução. À primeira condição equivale dizer que $\\det A \\neq 0$; $A$ e $A^T$ são invertíveis; os $A_{*j}$ são linearmente independentes. Considerando que são três os parâmetros a se determinar, a matriz de Vandermonde associada a esse problema de mínimos quadrados tem que ter três colunas. Do contrário, o problema não está bem definido, o que se evidencia se considerada a forma normal do mesmo:\n",
    "\\begin{equation}\n",
    "A^TA\\boldsymbol{\\beta} = A^T\\mathbf{y}\n",
    "\\end{equation}\n",
    "Em particular, essas colunas têm de ser linearmente independentes, para que esteja garantida a unicidade da solução. Observe que, também devido a $(1)$, $A$ tem de ter três linhas, porquanto são três as amostras. Logo $A$ é quadrada, e, portanto, seu determinante é dado pela fórmula:\n",
    "\\begin{equation}\n",
    "\\det A = \\prod_{i<j} (x_j - x_i)\n",
    "\\end{equation} \n",
    "que é diferente de zero se, e somente se, $x_i \\neq x_j$, para $i, j \\in \\{1, 2, 3\\}$, o que garante a independencia linear das colunas, a invertibilidade de $A$ e, por conseguinte, a unicidade da solução."
   ]
  },
  {
   "cell_type": "markdown",
   "id": "cc3a597f",
   "metadata": {
    "deletable": false,
    "editable": false,
    "nbgrader": {
     "cell_type": "markdown",
     "checksum": "5bdd61d3e2e3ae4d5652038b5abc42b5",
     "grade": false,
     "grade_id": "cell-ed9287a66e9ded9e",
     "locked": true,
     "schema_version": 3,
     "solution": false,
     "task": false
    }
   },
   "source": [
    "## Questão 2\n",
    "\n",
    "Considere o modelo da forma\n",
    "$$ y = \\frac{\\alpha x}{(1 + \\beta x)^3}.\n",
    "$$\n",
    "\n",
    "Ache uma mudança de variáveis que transforme esse modelo em um modelo linear nos (novos) parâmetros. Justifique o seu desenvolvimento, exibindo a mudança de variáveis e o modelo linear."
   ]
  },
  {
   "cell_type": "markdown",
   "id": "f46be723",
   "metadata": {
    "deletable": false,
    "nbgrader": {
     "cell_type": "markdown",
     "checksum": "2593970bbe9820f571a6174ccc28b0eb",
     "grade": true,
     "grade_id": "cell-c41d0d4572e6b45a",
     "locked": false,
     "points": 4,
     "schema_version": 3,
     "solution": true,
     "task": false
    }
   },
   "source": [
    "YOUR ANSWER HERE"
   ]
  },
  {
   "cell_type": "markdown",
   "id": "f682b492",
   "metadata": {
    "deletable": false,
    "editable": false,
    "nbgrader": {
     "cell_type": "markdown",
     "checksum": "9dc5bad6079242cd97b281e373a098d9",
     "grade": false,
     "grade_id": "cell-fefbed9bfd6d2f04",
     "locked": true,
     "schema_version": 3,
     "solution": false,
     "task": false
    }
   },
   "source": [
    "## Questão 3\n",
    "\n",
    "Em um ensaio de laboratório, foram testadas diferentes doses de uma nova droga em um certos indivíduos voluntários. Para cada nível de dosagem, 250 indivíduos foram expostos à droga e 250, a um placebo. O número de sucessos foi reportado:\n",
    "\n",
    "| dosagem | sucesso droga | sucesso placebo\n",
    "|:---:|:---:|:---:|\n",
    "| 1 | 29 | 5 |\n",
    "| 2 | 56 | 7 |\n",
    "| 3 | 85 | 8 |\n",
    "| 4 | 112 | 12 |\n",
    "| 5 | 134 | 11 |\n",
    "| 6 | 143 | 17 |\n",
    "\n",
    "Use o método de mínimos quadrados para encontrar os parâmetros $\\beta = (\\beta_0, \\beta_1)$ que melhor ajustam o modelo linear $y = \\beta_0 + \\beta_1 x$ aos dados acima de sucesso da droga, no sentido de minimizar a soma dos quadrados dos resíduos, onde $x=1,\\ldots, 6$ indica a dosagem e $y$ indica o número de sucesso nos que receberam a droga.\n",
    "\n",
    "1. Escreva, abaixo, o código para encontrar o vetor bidimensional $\\beta = [\\beta_0, \\beta_1]$ com esses parâmetros;\n",
    "2. Complete a definição da função $f(x)$ que retorna a estimativa do número de sucesso, para cada dosagem $x$, onde $x$ deve ser um número em ponto flutuante `Float64`.\n",
    "3. Use o pacote `Plots` para exibir um gráfico dos dados e do ajuste por esse modelo linear, com os parâmetros encontrados.\n",
    "\n",
    "A resposta de cada item acima deve estar em cada uma das células de código abaixo, conforme indicado."
   ]
  },
  {
   "cell_type": "code",
   "execution_count": null,
   "id": "16994441",
   "metadata": {
    "deletable": false,
    "nbgrader": {
     "cell_type": "code",
     "checksum": "19d50e60ce8604362aec2c5336ea62e4",
     "grade": false,
     "grade_id": "cell-2e6ed5733a5f6de9",
     "locked": false,
     "schema_version": 3,
     "solution": true,
     "task": false
    }
   },
   "outputs": [],
   "source": [
    "# Resposta para o item 1 da questão 4 aqui\n",
    "yi = [] # número de sucessos\n",
    "β = [] # parâmetros\n",
    "# YOUR CODE HERE\n",
    "println(\"Os parâmetros do melhor ajuste são β₀ = $(round(β[1], digits=3)) e β₁ = $(round(β[2], digits=3))\")"
   ]
  },
  {
   "cell_type": "code",
   "execution_count": null,
   "id": "a1fa5e1a",
   "metadata": {
    "deletable": false,
    "editable": false,
    "nbgrader": {
     "cell_type": "code",
     "checksum": "071be5b71bebcc70f5a4f3f8b0243ec3",
     "grade": true,
     "grade_id": "cell-5bbb0cff3099cfdf",
     "locked": true,
     "points": 2,
     "schema_version": 3,
     "solution": false,
     "task": false
    }
   },
   "outputs": [],
   "source": [
    "@assert yi isa Vector\n",
    "@assert β isa Vector\n",
    "@assert length(β) == 2"
   ]
  },
  {
   "cell_type": "code",
   "execution_count": null,
   "id": "76cfe62e",
   "metadata": {
    "deletable": false,
    "nbgrader": {
     "cell_type": "code",
     "checksum": "9ec4bfddaaa8b65892079e86b94a91db",
     "grade": false,
     "grade_id": "cell-8eb77fac9ed32b43",
     "locked": false,
     "schema_version": 3,
     "solution": true,
     "task": false
    }
   },
   "outputs": [],
   "source": [
    "# Resposta para o item 2 da questão 4 aqui\n",
    "function f(x, β)\n",
    "    y = nothing\n",
    "# YOUR CODE HERE\n",
    "    return y\n",
    "end"
   ]
  },
  {
   "cell_type": "code",
   "execution_count": null,
   "id": "faa95250",
   "metadata": {
    "deletable": false,
    "editable": false,
    "nbgrader": {
     "cell_type": "code",
     "checksum": "edb148b19a75e1e6fe936f32b752a7f8",
     "grade": true,
     "grade_id": "cell-80e46c56c03f59ad",
     "locked": true,
     "points": 1,
     "schema_version": 3,
     "solution": false,
     "task": false
    }
   },
   "outputs": [],
   "source": [
    "@assert f(1.0, [1.0, 2.0]) isa Float64"
   ]
  },
  {
   "cell_type": "code",
   "execution_count": null,
   "id": "b0f5148a",
   "metadata": {
    "deletable": false,
    "nbgrader": {
     "cell_type": "code",
     "checksum": "87e35df9db291ed2bd1ec27d98ea54ef",
     "grade": true,
     "grade_id": "cell-eb5b11701235f8c4",
     "locked": false,
     "points": 1,
     "schema_version": 3,
     "solution": true,
     "task": false
    }
   },
   "outputs": [],
   "source": [
    "# Resposta para o item 3 da questão 4 aqui\n",
    "# Use `plot!` e `scatter!` para traçar o ajuste e os dados \"em cima\" da figura criada a seguir\n",
    "# Use o argumento `label` para indicar os traçados de ajuste e de dados\n",
    "plot(ylim = (0.0, 250), title=\"Dados e modelo linear ajustado\", titlefont=10, legend=:topleft)\n",
    "# YOUR CODE HERE"
   ]
  },
  {
   "cell_type": "markdown",
   "id": "48016e8c",
   "metadata": {
    "deletable": false,
    "editable": false,
    "nbgrader": {
     "cell_type": "markdown",
     "checksum": "4d08c9b7030ec7042baa297a8127b720",
     "grade": false,
     "grade_id": "cell-3a5a02909661b31e",
     "locked": true,
     "schema_version": 3,
     "solution": false,
     "task": false
    }
   },
   "source": [
    "## Questão 4\n",
    "\n",
    "Queremos modelar um problema com valores escalares $z$ dependentes de duas variáveis $x$ e $y$ através de uma função da forma\n",
    "\n",
    "$$ z = \\frac{ \\alpha xy }{ 1 + \\gamma x + \\delta y }\n",
    "$$\n",
    "\n",
    "Foram feitas as seguintes medições.\n",
    "\n",
    "| x | y | z |\n",
    "| :--: | :---: | :---: |\n",
    "| 9.1 | 7.0 | 12.75 |\n",
    "| 0.7 | 1.2 | 1.11 |\n",
    "| 6.3 | 1.7 | 2.60 |\n",
    "| 5.7 | 3.2 | 4.59 |\n",
    "| 3.7 | 6.6 | 6.98 |\n",
    "| 2.7 | 3.7 | 3.69 |\n",
    "| 7.3 | 0.1 | 0.23 |\n",
    "| 2.3 | 7.5 | 4.90 |\n",
    "| 5.8 | 0.2 | 0.46 |\n",
    "| 1.0 | 4.3 | 2.51 |\n",
    "| 1.3 | 6.2 | 2.95 |\n",
    "| 3.6 | 1.5 | 2.64 |\n",
    "| 4.2 | 0.4 | 0.75 |\n",
    "| 5.8 | 7.4 | 7.47 |\n",
    "| 4.7 | 5.3 | 7.83 |\n",
    "| 5.7 | 3.7 | 4.73 |\n",
    "| 1.4 | 0.8 | 1.42 |\n",
    "| 1.7 | 9.5 | 4.90 |\n",
    "| 9.4 | 1.8 | 2.50 |\n",
    "| 0.4 | 3.6 | 0.79 |\n",
    "\n",
    "Queremos encontrar parâmetros $\\alpha$, $\\gamma$ e $\\delta$ que melhor ajustam o modelo aos dados indicados, no sentido de minimizar a soma dos quadrados dos resíduos.\n",
    " \n",
    "Assim como no modelo de Michaelis-Menten, a função acima pode ser transformada em um modelo linear em termos de parâmetros apropriados relacionados com os parâmetros acima e com mudanças adequadas nas variávels $x$, $y$ e $z$. Isso nos permite fazer o ajuste usando o método de mínimos quadrados. Também podemos fazer o ajuste do modelo na forma não linear, usando `Optim.jl`, por exemplo.\n",
    "\n",
    "Abaixo, temos uma célula de Markdown e duas células de código.\n",
    "\n",
    "1. Na primeira, deduza o modelo linear nos parâmetros conforme mencionado acima, indicando a relação das novas variáveis e dos novos parâmetros com as variáveis e parâmetros originais.\n",
    "\n",
    "1. Na segunda, obtenha os parâmetros $\\alpha=\\alpha_q$, $\\delta=\\delta_q$ e $\\gamma=\\gamma_q$  de melhor ajuste via mínimos quadrados usando a transformação mencionada acima e calcule a soma dos quadrados dos resíduos `rss_q` para o modelos ajustado.\n",
    "\n",
    "1. Na terceira, trabalhe diretamente com o modelo não-linear, obtenha os parâmetros $\\alpha=\\alpha_\\textrm{opt}$, $\\delta=\\delta_\\textrm{opt}$ e $\\gamma=\\gamma_\\textrm{opt}$ de melhor ajuste via `Optim.jl` e calcule a soma dos quadrados dos resíduos `rss_opt` para o modelos ajustado."
   ]
  },
  {
   "cell_type": "markdown",
   "id": "3c0c0442",
   "metadata": {
    "deletable": false,
    "nbgrader": {
     "cell_type": "markdown",
     "checksum": "002205b0098e4b03afe88eda6b27f613",
     "grade": true,
     "grade_id": "cell-f61232bac77569ea",
     "locked": false,
     "points": 2,
     "schema_version": 3,
     "solution": true,
     "task": false
    }
   },
   "source": [
    "YOUR ANSWER HERE"
   ]
  },
  {
   "cell_type": "code",
   "execution_count": null,
   "id": "b3589ab1",
   "metadata": {
    "deletable": false,
    "nbgrader": {
     "cell_type": "code",
     "checksum": "136f2ba84080ba9c2c861f71751e74ad",
     "grade": false,
     "grade_id": "cell-2d2aa9f42ffc2b84",
     "locked": false,
     "schema_version": 3,
     "solution": true,
     "task": false
    }
   },
   "outputs": [],
   "source": [
    "# Código para a sua resposta para o item 2 da questão 5, resolvendo via minimos quadrados, aqui nesta célula\n",
    "\n",
    "xyz = [\n",
    "    9.1 7.0 12.75;\n",
    "    0.7 1.2 1.11;\n",
    "    6.3 1.7 2.60;\n",
    "    5.7 3.2 4.59;\n",
    "    3.7 6.6 6.98;\n",
    "    2.7 3.7 3.69;\n",
    "    7.3 0.1 0.23;\n",
    "    2.3 7.5 4.90;\n",
    "    5.8 0.2 0.46;\n",
    "    1.0 4.3 2.51;\n",
    "    1.3 6.2 2.95;\n",
    "    3.6 1.5 2.64;\n",
    "    4.2 0.4 0.75;\n",
    "    5.8 7.4 7.47;\n",
    "    4.7 5.3 7.83;\n",
    "    5.7 3.7 4.73;\n",
    "    1.4 0.8 1.42;\n",
    "    1.7 9.5 4.90;\n",
    "    9.4 1.8 2.50;\n",
    "    0.4 3.6 0.79\n",
    "]\n",
    "\n",
    "α_q, γ_q, δ_q = nothing, nothing, nothing\n",
    "\n",
    "rss_q = nothing\n",
    "\n",
    "# YOUR CODE HERE\n",
    "\n",
    "println(\"Solução via mínimos quadrados:\")\n",
    "println(\"    Parâmetros:\n",
    "        α_q = $(round(α_q, digits=3))\n",
    "        γ_q = $(round(γ_q, digits=3))\n",
    "        δ_q = $(round(δ_q, digits=3))\")\n",
    "println(\"    Soma dos quadrados dos resíduos:\n",
    "        rss_q = $(round(rss_q, digits=3))\")"
   ]
  },
  {
   "cell_type": "code",
   "execution_count": null,
   "id": "ce588ed8",
   "metadata": {
    "deletable": false,
    "editable": false,
    "nbgrader": {
     "cell_type": "code",
     "checksum": "c70636786077e7e7724ad30f7bf0f5b7",
     "grade": true,
     "grade_id": "cell-cc7be0f3d5030892",
     "locked": true,
     "points": 2,
     "schema_version": 3,
     "solution": false,
     "task": false
    }
   },
   "outputs": [],
   "source": [
    "@assert isassigned(Ref(rss_q))\n"
   ]
  },
  {
   "cell_type": "code",
   "execution_count": null,
   "id": "fb5c23ce",
   "metadata": {
    "deletable": false,
    "nbgrader": {
     "cell_type": "code",
     "checksum": "0f67b0b8edb87321f93226129ff5d19b",
     "grade": false,
     "grade_id": "cell-c2e8ac6283da3106",
     "locked": false,
     "schema_version": 3,
     "solution": true,
     "task": false
    }
   },
   "outputs": [],
   "source": [
    "# Código para a sua resposta para o item 3 da questão 5, resolvendo via Optim, aqui nesta célula\n",
    "\n",
    "α_opt, γ_opt, δ_opt = nothing, nothing, nothing\n",
    "\n",
    "rss_opt = nothing\n",
    "\n",
    "# YOUR CODE HERE\n",
    "\n",
    "println(\"Solução via \\\"Optim.jl\\\":\")\n",
    "println(\"    Parâmetros:\n",
    "        α_opt = $(round(α_opt, digits=3))\n",
    "        γ_opt = $(round(γ_opt, digits=3))\n",
    "        δ_opt = $(round(δ_opt, digits=3))\")\n",
    "println(\"    Soma dos quadrados dos resíduos:\n",
    "        rss_opt = $(round(rss_opt, digits=3))\")"
   ]
  },
  {
   "cell_type": "code",
   "execution_count": null,
   "id": "eb32ace5",
   "metadata": {
    "deletable": false,
    "editable": false,
    "nbgrader": {
     "cell_type": "code",
     "checksum": "1d4a51ef46c329dcee33c0c6f1e9095f",
     "grade": true,
     "grade_id": "cell-56e293d076f305d2",
     "locked": true,
     "points": 2,
     "schema_version": 3,
     "solution": false,
     "task": false
    }
   },
   "outputs": [],
   "source": [
    "@assert isassigned(Ref(rss_opt))\n"
   ]
  }
 ],
 "metadata": {
  "kernelspec": {
   "display_name": "Julia 1.7.2",
   "language": "julia",
   "name": "julia-1.7"
  },
  "language_info": {
   "file_extension": ".jl",
   "mimetype": "application/julia",
   "name": "julia",
   "version": "1.7.2"
  }
 },
 "nbformat": 4,
 "nbformat_minor": 5
}
