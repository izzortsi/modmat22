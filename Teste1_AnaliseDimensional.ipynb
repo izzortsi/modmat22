{
 "cells": [
  {
   "cell_type": "markdown",
   "id": "d8303ea3",
   "metadata": {
    "deletable": false,
    "editable": false,
    "nbgrader": {
     "cell_type": "markdown",
     "checksum": "fd02db599071c75cfa4c7826a9a4599f",
     "grade": false,
     "grade_id": "cell-ad1dd7ffa742b35b",
     "locked": true,
     "schema_version": 3,
     "solution": false,
     "task": false
    }
   },
   "source": [
    "# Teste 1 - Análise dimensional\n",
    "\n",
    "Responda às questões abaixo nas células indicadas. Escreva o texto em markdown e latex, conforme instruções em [Jupyter - Markdown cells](https://jupyter-notebook.readthedocs.io/en/stable/examples/Notebook/Working%20With%20Markdown%20Cells.html), e os códigos em Julia.\n",
    "\n",
    "O único pacote necessário para resolver a questão de código é o [Uniful.jl](https://github.com/PainterQubits/Unitful.jl), carregado na célula a seguir."
   ]
  },
  {
   "cell_type": "code",
   "execution_count": 3,
   "id": "e9bb57d9",
   "metadata": {
    "deletable": false,
    "editable": false,
    "nbgrader": {
     "cell_type": "code",
     "checksum": "7da373887784fd8e0928d29fb65c0e2d",
     "grade": false,
     "grade_id": "cell-b2e440fa935218a6",
     "locked": true,
     "schema_version": 3,
     "solution": false,
     "task": false
    }
   },
   "outputs": [],
   "source": [
    "using Unitful"
   ]
  },
  {
   "cell_type": "markdown",
   "id": "75869790",
   "metadata": {
    "deletable": false,
    "editable": false,
    "nbgrader": {
     "cell_type": "markdown",
     "checksum": "c69d7ce14201a99fd2ee1024963e8313",
     "grade": false,
     "grade_id": "cell-4b8f965aee013ef4",
     "locked": true,
     "schema_version": 3,
     "solution": false,
     "task": false
    }
   },
   "source": [
    "## Questão 1 (2 pontos)\n",
    "\n",
    "Buracos negros são fascinantes. Há, na verdade, vários conceitos diferentes para o termo buraco negro (veja [Erik Curiel, \"The many definitions of a black hole\"](https://arxiv.org/abs/1808.01507), publicado em [Nature Astronomy 3, (2019), 27-34](https://www.nature.com/articles/s41550-018-0602-1)), mas a definição clássica é a de uma região da qual a luz não consegue escapar. O raio desse horizonte é conhecido como *raio de Schwarszchild*. Esse raio pode ser calculado resolvendo-se as equações de Einstein de relatividade geral, assumindo-se determinadas simetrias (corpo esférico homogêneo sem rotação). Mas também podemos deduzir a expressão para esse raio usando análise dimensional. Nesse caso, ao invés de usar uma lei fundamental, é necessário usar hipóteses de universalidade, não tão críveis quanto uma lei fundamental. De qualquer forma, é natural pensarmos que a massa $M$ do objeto é uma das quantidades importantes. Como ela envolve efeitos gravitacionais, é natural imaginarmos que a constante gravitacional $G$ também é importante. Finalmente, como horizonte de eventos diz respeito à propagação da luz, é natural considerar que a velocidade $c$ da luz também é relevante. Assumindo, então, que o raio é dado em termos de um monômio $r \\propto G^\\alpha m^\\beta c^\\gamma$, use análise dimensional para deduzir as potências $\\alpha$, $\\beta$ e $\\gamma$.\n",
    "\n",
    "Justifique a sua resposta escrevendo, na célula abaixo:\n",
    "1. as dimensões fundamentais necessárias para descrever as quantidades físicas $r, G, m, c$;\n",
    "2. a dimensão física de cada quantidade dessas;\n",
    "3. a dimensão física do termo $G^\\alpha m^\\beta c^\\gamma$ em função das dimensões fundamentais;\n",
    "4. o sistema necessário para obter as potências $\\alpha$, $\\beta$ e $\\gamma$ que torna o sistema dimensionalmente correto;\n",
    "5. Os valores de $\\alpha$, $\\beta$ e $\\gamma$ que resolvem esse sistema;\n",
    "6. a fórmula final de proporcionalidade para $r$ em função das outras quantidades.\n"
   ]
  },
  {
   "cell_type": "markdown",
   "id": "180fcdd7",
   "metadata": {
    "deletable": false,
    "nbgrader": {
     "cell_type": "markdown",
     "checksum": "4d032d21cb0d0a5b1406be2cbb5a3782",
     "grade": true,
     "grade_id": "cell-0f4c38d122bc421c",
     "locked": false,
     "points": 2,
     "schema_version": 3,
     "solution": true,
     "task": false
    }
   },
   "source": [
    "1. $[r] = L; \\ [G] = \\frac{L^3}{M^1 T^2}; \\ [m] = M; \\ [c] = \\frac{L}{T};$\n",
    "\n",
    "2. $\\llbracket r \\rrbracket = \\texttt{m} \\ \\text{(comprimento)}; \\ \\llbracket G \\rrbracket = \\frac{\\texttt{m}^3}{\\texttt{kg }\\texttt{s}^2}; \\ \\llbracket m \\rrbracket = \\texttt{kg} \\ \\text{(massa)}; \\ \\llbracket c \\rrbracket = \\frac{\\texttt{m}}{\\texttt{s}} \\ \\text{(velocidade)}$\n",
    "\n",
    "3. $[G^\\alpha] = (\\frac{L^3}{M^1 T^2})^\\alpha; \\ [m^\\beta] = M^\\beta; \\ [c^\\gamma] = (\\frac{L}{T})^\\gamma$; então\n",
    "    \n",
    "    $[G^\\alpha m^\\beta c^\\gamma] = (\\frac{L^3}{M^1 T^2})^\\alpha M^\\beta (\\frac{L}{T})^\\gamma$;\n",
    "\n",
    "    $[G^\\alpha m^\\beta c^\\gamma] = \\frac{L^{3\\alpha}}{M^{\\alpha} T^{2\\alpha}} M^\\beta \\frac{L^\\gamma}{T^\\gamma}$;\n",
    "    \n",
    "    $= \\frac{L^{3\\alpha + \\gamma}}{M^{\\alpha - \\beta} T^{2\\alpha + \\gamma}}$\n",
    "\n",
    "4.  $3\\alpha + \\gamma = 1;$ \\\n",
    "    $\\alpha - \\beta = 0;$ \\\n",
    "    $2\\alpha + \\gamma = 0$ \n",
    "\n",
    "5. $\\alpha = 1;$ \\\n",
    "   $\\beta = \\alpha = 1;$ \\\n",
    "   $\\gamma = -2$\n",
    "\n",
    "4.  Temos que ter $\\alpha = \\beta = 1$ e $\\gamma = -2$, ficando com $r \\propto \\frac{G m}{c^{2}}$\n"
   ]
  },
  {
   "cell_type": "markdown",
   "id": "ae72ac84",
   "metadata": {
    "deletable": false,
    "editable": false,
    "nbgrader": {
     "cell_type": "markdown",
     "checksum": "f686b28442f3b64b97335e3626475aec",
     "grade": false,
     "grade_id": "cell-8a3e6c133ac3db60",
     "locked": true,
     "schema_version": 3,
     "solution": false,
     "task": false
    }
   },
   "source": [
    "## Questão 2 (2 pontos)\n",
    "\n",
    "A expressão $r \\propto G^\\alpha m^\\beta c^\\gamma$ indica que existe uma constante de proporcionalidade $K$ tal que $r = K G^\\alpha m^\\beta c^\\gamma$. A solução das equações de Einstein nos dá $K = 2$. Complete a definição abaixo da função `raio_de_Schwarszchild(m)` de tal forma que receba uma variável `m` com dimensão de massa, definido através do pacote [Unitful](https://github.com/PainterQubits/Unitful.jl) e retorne o raio de Schwarszfield $r$ devidamente calculado e que seja uma quantidade Unitful com dimensão de comprimento. Na definição, use $K = 2$, junto com as potências encontradas na questão 1) e com $G$ e $c$ apropriados, indicando a fonte utilizada para os valores de $G$ e $c$."
   ]
  },
  {
   "cell_type": "code",
   "execution_count": 4,
   "id": "eb662ad1",
   "metadata": {
    "deletable": false,
    "nbgrader": {
     "cell_type": "code",
     "checksum": "42415e619d59373ef21f7985b283cd18",
     "grade": false,
     "grade_id": "cell-4ae6ee6df663b50d",
     "locked": false,
     "schema_version": 3,
     "solution": true,
     "task": false
    }
   },
   "outputs": [
    {
     "data": {
      "text/plain": [
       "raio_de_Scharschild (generic function with 1 method)"
      ]
     },
     "metadata": {},
     "output_type": "display_data"
    }
   ],
   "source": [
    "function raio_de_Scharschild(m)\n",
    "    # YOUR CODE HERE\n",
    "    m = u\"kg\"(m)\n",
    "    G = (6.674*10^-11)u\"m^3/(kg*s^2)\" #https://en.wikipedia.org/wiki/Gravitational_constant\n",
    "    c = 299792458u\"m/s\" #https://en.wikipedia.org/wiki/Speed_of_light\n",
    "    r = 2*G*m/(c^2)\n",
    "\n",
    "    return r\n",
    "end\n",
    "\n",
    "# @show raio_de_Scharschild((10.0^42)u\"kg\")\n",
    "# @show raio_de_Scharschild((10.0^48)u\"g\")"
   ]
  },
  {
   "cell_type": "code",
   "execution_count": 5,
   "id": "2e097c1e",
   "metadata": {
    "deletable": false,
    "editable": false,
    "nbgrader": {
     "cell_type": "code",
     "checksum": "bbd7b234b14cb81321042599abdc0ac0",
     "grade": true,
     "grade_id": "cell-98d16bbfc406cfe0",
     "locked": true,
     "points": 2,
     "schema_version": 3,
     "solution": false,
     "task": false
    }
   },
   "outputs": [],
   "source": [
    "# Esta célula é usada para correção automática, não apague-a."
   ]
  },
  {
   "cell_type": "markdown",
   "id": "63c8ddb7",
   "metadata": {
    "deletable": false,
    "editable": false,
    "nbgrader": {
     "cell_type": "markdown",
     "checksum": "1c942921ed62fa36d84b161edb67e960",
     "grade": false,
     "grade_id": "cell-1efa845802728bc1",
     "locked": true,
     "schema_version": 3,
     "solution": false,
     "task": false
    }
   },
   "source": [
    "## Questão 3 (2 pontos)\n",
    "\n",
    "Qualquer objeto imerso em um fluido sofre uma força de empuxo proporcional à massa de fluido deslocada, efeito este conhecido como *princípio de Arquimedes*. A partir do equilíbrio entre o peso do objeto e esse empuxo, podemos encontrar a fração de volume que fica submersa. Assumindo que as quantidades relevantes para esse fenômeno são a densidade $\\rho$ do objeto, o volume $V$ do objeto, a densidade $\\rho_0$ do fluido, o volume $V_0$ da parte submersa do objeto e a aceleração gravitacional $g$, quais quantidades adimensionais básicas podemos tirar dessas cinco quantidades dimensionais?\n",
    "\n",
    "Escreva a resposta, junto com a devida justificativa, na célula abaixo."
   ]
  },
  {
   "cell_type": "markdown",
   "id": "06aa2599",
   "metadata": {
    "deletable": false,
    "nbgrader": {
     "cell_type": "markdown",
     "checksum": "edcea263186350873c6fa7a50ea66e9a",
     "grade": true,
     "grade_id": "cell-70014b1e41a9b537",
     "locked": false,
     "points": 2,
     "schema_version": 3,
     "solution": true,
     "task": false
    }
   },
   "source": [
    "Uma quantidade adimensional $q$ derivada das consideradas ($\\rho,\\ V,\\ \\rho_0,\\ V_0,\\ g$) deve satisfazer \n",
    "\n",
    "$$\n",
    "q \\propto \\rho^{p_1}  V^{p_2} \\rho_0^{p_3} V_0^{p_4} g^{p_5}\n",
    "$$\n",
    "com\n",
    "$$\n",
    "[q] = [\\rho^{p_1}  V^{p_2} \\rho_0^{p_3} V_0^{p_4} g^{p_5}] = 1.\n",
    "$$\n",
    "Comecemos observando que $[\\rho] = [\\rho_0] = ML^{-3}$, $[V] = [V_0]=L^3$ e $[g] = LT^{-2}$. Então temos $[q] = (ML^{-3})^{(p_1 + p_3)}(L^3)^{(p_2+p_4)}(LT^{-2})^{p_5}$, o que nos deixa com o sistema:\n",
    "\n",
    "$\n",
    "\\begin{cases}\n",
    "  -3(p_1 + p_3) + 3(p_2 + p_4) + p_5 = 0 \\\\\n",
    "  p_1 + p_3 = 0 \\\\\n",
    "  -2p_5 = 0\n",
    "\\end{cases}\n",
    "$\n",
    "que tem por soluções:\n",
    "$\n",
    "\\begin{cases}\n",
    "  p_2 = - p_4 \\\\\n",
    "  p_1 = - p_3 \\\\\n",
    "  p_5 = 0\n",
    "\\end{cases}\n",
    "$\n",
    "de forma que quaisquer quantidades adimensionais $q$, derivadas das fornecidas, têm que satisfazer:\n",
    "$$\n",
    "q \\propto \\frac{\\rho^{p_1}V^{p_2}}{\\rho_0^{p_1} V_0^{p_2}}\n",
    "$$"
   ]
  }
 ],
 "metadata": {
  "kernelspec": {
   "display_name": "Julia 1.7.2",
   "language": "julia",
   "name": "julia-1.7"
  },
  "language_info": {
   "file_extension": ".jl",
   "mimetype": "application/julia",
   "name": "julia",
   "version": "1.7.2"
  }
 },
 "nbformat": 4,
 "nbformat_minor": 5
}
