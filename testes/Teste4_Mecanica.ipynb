{
 "cells": [
  {
   "cell_type": "markdown",
   "id": "33741380",
   "metadata": {
    "deletable": false,
    "editable": false,
    "nbgrader": {
     "cell_type": "markdown",
     "checksum": "08aeebcdcb11ba8a316117d9dd358c0b",
     "grade": false,
     "grade_id": "cell-b6f71cdd9e8f4535",
     "locked": true,
     "schema_version": 3,
     "solution": false,
     "task": false
    }
   },
   "source": [
    "# Teste 4 - Mecânica\n",
    "\n",
    "Responda às questões abaixo.\n",
    "\n",
    "Não crie novas células nem apague células existentes. Apenas responda nas células indicadas.\n",
    "\n",
    "Escreva o texto em Markdown e LaTeX, conforme instruções em [Jupyter - Markdown cells](https://jupyter-notebook.readthedocs.io/en/stable/examples/Notebook/Working%20With%20Markdown%20Cells.html), e escreva os códigos em [Julia](https://julialang.org).\n",
    "\n",
    "Apenas os pacotes indicados na célula abaixo podem ser utilizados para responder às questões cujas respostas requerem códigos.\n",
    "## Questão 1 (6 pontos)\n",
    "\n",
    "Considere o problema de um corpo de massa $m$ deslizando, sem atrito, sobre uma curva planar $z=h(x)$, $y=0$, sob a atração gravitacional uniforme $\\mathbf{F} =(0,0,-mg)$, discutido em aula e no texto. Usando $x$ como coordenada generalizada, encontre\n",
    "\n",
    "i) a integral de Jacobi $h(x, \\dot x)$;\n",
    "\n",
    "ii) a velocidade $\\dot x$ em termos da coordenada $x$ e do momento generalizado $p$; e \n",
    "\n",
    "iii) o Hamiltoniano $H(x, p)$ desse sistema."
   ]
  },
  {
   "cell_type": "markdown",
   "id": "18575c9f",
   "metadata": {
    "deletable": false,
    "nbgrader": {
     "cell_type": "markdown",
     "checksum": "29918ec8fb1e994a68473d8e575c7022",
     "grade": true,
     "grade_id": "cell-422a6c69cba97306",
     "locked": false,
     "points": 6,
     "schema_version": 3,
     "solution": true,
     "task": false
    }
   },
   "source": [
    "Tomando $x$ como coordenada generalizada, obtemos\n",
    "$$\n",
    "\\mathbf{r} = \\mathbf{r}(x, t) = (x, 0, h(x))\n",
    "$$\n",
    "e \n",
    "$$\n",
    "\\mathbf{\\dot{r}} = \\mathbf{\\dot{r}}(x, t) = \\frac{\\partial \\mathbf{r}}{\\partial x}\\frac{\\mathrm{d} x}{\\mathrm{d} t} + \\frac{\\partial \\mathbf{r}}{\\partial t} = (1, 0, h'(x)) \\dot{x} + (\\dot{x}, 0, 0) = \\dot{x}((1, 0, h'(x)) + (0, 0, 0)).\n",
    "$$\n",
    "Sendo o sistema conservativo, temos o Lagrangiano dado por\n",
    "$$\n",
    "L(\\mathbf{r}, \\mathbf{\\dot{r}}) = K(\\mathbf{r}, \\mathbf{\\dot{r}}) - V(\\mathbf{r})\n",
    "$$\n",
    "com $$K(\\mathbf{r}, \\mathbf{\\dot{r}}) = \\frac{1}{2}m\\|{\\mathbf{\\dot{r}}}\\| =\\frac{1}{2}m (1+h'(x)^2)\\dot{x}^2  $$\n",
    "e $V(\\mathbf{r})$ satisfazendo $-\\frac{\\partial V}{\\partial\\mathbf{r}} = \\mathbf{F} = (0, 0, -mg)$, o que se verifica, chamando as coordenadas de $\\mathbf{r}$ de $r_i$, no caso em que $V = mgh(x)$, haja vista que $\\frac{\\partial V}{\\partial\\mathbf{r}} = (\\frac{\\partial V}{\\partial r_1}, \\frac{\\partial V}{\\partial r_2}, \\frac{\\partial V}{\\partial r_3}) = (0, 0, mg)$.\n",
    "Temos, portanto, \n",
    "$$\n",
    "L(\\mathbf{r}, \\mathbf{\\dot{r}}) = \\frac{1}{2}m (1+h'(x)^2)\\dot{x}^2 - mgh(x)\n",
    "$$\n",
    "\n",
    "#### **(i)**\n",
    "\n",
    "A integral de Jacobi é dada por (chamando-a de $\\mathrm{h}$, pra evitar conflito com $z = h(x)$):\n",
    "$$\n",
    "\\mathrm{h}(x, \\dot{x}) = \\dot{x}\\frac{\\partial L}{\\partial \\dot{x}} - L(x, \\dot{x});\n",
    "$$\n",
    "note que \n",
    "$$\n",
    "\\frac{\\partial L}{\\partial \\dot{x}} = m(1+h'(x)^2)\\dot{x}\n",
    "$$\n",
    "sendo, assim, a integral:\n",
    "$$\n",
    "\\mathrm{h}(x, \\dot{x}) = \\dot{x} (m(1+h'(x)^2)\\dot{x}) - (\\frac{1}{2}m (1+h'(x)^2)\\dot{x}^2 - mgh(x)) = \\frac{1}{2}m (1+h'(x)^2)\\dot{x}^2 + mgh(x)\n",
    "$$\n",
    "\n",
    "#### **(ii)**\n",
    "\n",
    "O momento generalizado, como já calculado acima, é $p = \\frac{\\partial L}{\\partial \\dot{x}} = m(1+h'(x)^2)\\dot{x}$. A velocidade generalizada, em termos de $p$ e (implicitamente?) de $x$ é, portanto,\n",
    "$$\n",
    "\\dot{x}(x, p) = \\frac{p}{m(1+h'(x)^2)}\n",
    "$$\n",
    "\n",
    "#### **(iii)**\n",
    "\n",
    "Obtemos, por fim, o Hamiltoniano $H(x, p)$ substituindo, em $\\mathrm{h}(x, \\dot{x})$, $\\dot{x}$ por $\\dot{x}(x, p) = \\frac{p}{m(1+h'(x)^2)}$, i.e,\n",
    "\n",
    "$$\n",
    "H(x, p) = \\frac{p^2}{2m(1+h'(x)^2)} + mgh(x)\n",
    "$$"
   ]
  },
  {
   "cell_type": "markdown",
   "id": "94cef511",
   "metadata": {
    "deletable": false,
    "editable": false,
    "nbgrader": {
     "cell_type": "markdown",
     "checksum": "33323d77a86732449f4f72cb9ebf850d",
     "grade": false,
     "grade_id": "cell-e587e13a0795f83c",
     "locked": true,
     "schema_version": 3,
     "solution": false,
     "task": false
    }
   },
   "source": [
    "## Questão 2 (4 pontos)\n",
    "\n",
    "Considere duas bolas de massas $m_1 > 0$ e $m_2 > 0$, respectivamente, conectadas por uma haste rígida de comprimento $\\ell > 0$ e massa desprezível. Suponha que o movimento de uma das bolas esteja restrito ao eixo $x$ e o da outra, ao plano $xz$. Considere coordendas generalizadas $x, \\theta\\in \\mathbb{R}$ tais que as posições dos centros de massa das duas bolas sejam descritas, respectivamente, por \n",
    "$$\n",
    "\\mathbf{r}_1 = (x, 0, 0), \\qquad \\mathbf{r}_2 = (x + \\ell\\sin\\theta, 0, -\\ell\\cos\\theta).\n",
    "$$\n",
    "Suponha que a única força agindo no sistema seja uma força gravitacional uniforme ao longo do eixo $z$, contrária ao sentido de crescimento de $z$. Assim, o Lagrangiano do sistema é dado, em coordenadas generalizadas, por\n",
    "$$\n",
    "L(x, \\theta, \\dot x, \\dot \\theta) = \\frac{1}{2}m_1 \\dot x^2 + \\frac{1}{2}m_2 \\left(\\left( \\dot x + \\ell\\dot \\theta \\cos\\theta \\right)^2 + \\ell^2 \\dot\\theta^2 \\sin^2\\theta \\right) + m_2g\\ell\\cos\\theta.\n",
    "$$\n",
    "\n",
    "i) escreva o sistema de equações de Euler-Lagrange desse modelo;\n",
    "\n",
    "ii) considerando que $L(x, \\theta, \\dot x, \\dot \\theta)$ é independente de $x$, determine a quantidade conservada que segue dessa simetria."
   ]
  },
  {
   "cell_type": "markdown",
   "id": "b5fa95ca",
   "metadata": {
    "deletable": false,
    "nbgrader": {
     "cell_type": "markdown",
     "checksum": "94d2107ed07de1b3fc6a1f31c0cbdc3e",
     "grade": true,
     "grade_id": "cell-87696697e0085f02",
     "locked": false,
     "points": 4,
     "schema_version": 3,
     "solution": true,
     "task": false
    }
   },
   "source": [
    "#### **(i)**\n",
    "Primeiro calculemos as derivadas parciais em relação a $\\dot{x}$ e $\\dot{\\theta}$, respectivamente, i.e, $\\frac{\\partial L}{\\partial (\\dot{x}, \\dot{\\theta})}$:\n",
    "\\begin{equation*}\n",
    "    \\begin{cases}\n",
    "      \\frac{\\partial L}{\\partial \\dot{x}} = m_1 \\dot{x} + m_2 (\\dot{x} + \\ell \\dot{\\theta}\\cos{\\theta})\\\\\n",
    "      \\frac{\\partial L}{\\partial \\dot{\\theta}} = m_2 ( (\\dot{x} + \\ell \\dot{\\theta}\\cos{\\theta}) \\ell \\cos{\\theta}) + \\ell^2 \\dot{\\theta} \\sin^2{\\theta}) = m_2(\\dot{x}\\ell\\cos{\\theta} + \\ell^2\\dot{\\theta})\n",
    "    \\end{cases}\n",
    "\\end{equation*}\n",
    "Agora, derivamos as equações a cima com respeito a $t$:\n",
    "\\begin{equation*}\n",
    "    \\begin{cases}\n",
    "      \\frac{\\mathrm{d}}{\\mathrm{dt}}\\frac{\\partial L}{\\partial \\dot{x}} = m_1 \\ddot{x} + m_2 (\\ddot{x} + \\ell (\\ddot{\\theta}\\cos{\\theta} - \\dot{\\theta}\\sin{\\theta}))\\\\\n",
    "      \\frac{\\mathrm{d}}{\\mathrm{dt}}\\frac{\\partial L}{\\partial \\dot{\\theta}} = m_2 ( \\ell (\\ddot{x}\\cos{\\theta} - \\dot{x}\\sin{\\theta}) + \\ell^2 \\ddot{\\theta})\n",
    "    \\end{cases}\n",
    "\\end{equation*}\n",
    "\n",
    "Finalmente, calculamos $\\frac{\\partial L}{\\partial (x, \\theta)}$:\n",
    "\\begin{equation*}\n",
    "    \\begin{cases}\n",
    "      \\frac{\\partial L}{\\partial x} = 0\\\\\n",
    "      \\frac{\\partial L}{\\partial \\theta} = m_2 ( (\\dot{x} + \\ell \\dot{\\theta}\\cos{\\theta})(-\\ell \\dot{\\theta}\\sin{\\theta}) + \\ell^2\\dot{\\theta}^2 \\cos{\\theta} - g\\ell\\sin{\\theta})\n",
    "    \\end{cases}\n",
    "\\end{equation*}\n",
    "Obtendo o sistema de equações de Euler-Lagrange:\n",
    "\\begin{equation*}\n",
    "    \\begin{cases}\n",
    "      \\frac{\\mathrm{d}}{\\mathrm{dt}}\\frac{\\partial L}{\\partial \\dot{x}} - \\frac{\\partial L}{\\partial x} = m_1 \\ddot{x} + m_2 (\\ddot{x} + \\ell (\\ddot{\\theta}\\cos{\\theta} - \\dot{\\theta}\\sin{\\theta})) - 0 = 0\\\\\n",
    "      \\frac{\\mathrm{d}}{\\mathrm{dt}}\\frac{\\partial L}{\\partial \\dot{\\theta}} - \\frac{\\partial L}{\\partial \\theta}= m_2 ( \\ell (\\ddot{x}\\cos{\\theta} - \\dot{x}\\sin{\\theta}) + \\ell^2 \\ddot{\\theta}) - m_2 ( (\\dot{x} + \\ell \\dot{\\theta}\\cos{\\theta})(-\\ell \\dot{\\theta}\\sin{\\theta}) + \\ell^2\\dot{\\theta}^2 \\cos{\\theta} - g\\ell\\sin{\\theta}) = 0\n",
    "    \\end{cases}\n",
    "\\end{equation*}\n",
    "\n",
    "\n"
   ]
  },
  {
   "cell_type": "markdown",
   "id": "1ef64815",
   "metadata": {},
   "source": []
  }
 ],
 "metadata": {
  "kernelspec": {
   "display_name": "Julia 1.7.2",
   "language": "julia",
   "name": "julia-1.7"
  },
  "language_info": {
   "file_extension": ".jl",
   "mimetype": "application/julia",
   "name": "julia",
   "version": "1.7.2"
  }
 },
 "nbformat": 4,
 "nbformat_minor": 5
}
