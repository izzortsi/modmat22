{
 "cells": [
  {
   "cell_type": "markdown",
   "id": "49bf9229",
   "metadata": {
    "deletable": false,
    "editable": false,
    "nbgrader": {
     "cell_type": "markdown",
     "checksum": "e3c0acd6e7b3d306acda0480b6474ed4",
     "grade": false,
     "grade_id": "cell-fccad012f76b00d4",
     "locked": true,
     "schema_version": 3,
     "solution": false,
     "task": false
    }
   },
   "source": [
    "# Teste 6 - Equações a derivadas parciais\n",
    "\n",
    "Responda às questões abaixo, nas devidas células.\n",
    "\n",
    "Escreva o texto em Markdown e LaTeX, conforme instruções em [Jupyter - Markdown cells](https://jupyter-notebook.readthedocs.io/en/stable/examples/Notebook/Working%20With%20Markdown%20Cells.html). Este teste não possui questões computacionais."
   ]
  },
  {
   "cell_type": "markdown",
   "id": "055339ef",
   "metadata": {
    "deletable": false,
    "editable": false,
    "nbgrader": {
     "cell_type": "markdown",
     "checksum": "1bd29efbcae3d21ce3ecec9cc3d39cd9",
     "grade": false,
     "grade_id": "cell-760804947841a516",
     "locked": true,
     "schema_version": 3,
     "solution": false,
     "task": false
    }
   },
   "source": [
    "## Questão 1\n",
    "\n",
    "Considere a equação de transporte\n",
    "\n",
    "$$\n",
    "u_t(t, x) + a u_x(t, x) = c u(t, x), \\quad (t, x) \\in \\mathbb{R}^2,\n",
    "$$\n",
    "\n",
    "com uma condição inicial\n",
    "$$\n",
    "u(0, x) = u_0(x), \\quad x \\in \\mathbb{R},\n",
    "$$\n",
    "onde $a, c > 0$ e $u_0=u_0(x)$ é continuamente diferenciável. Suponha que a solução seja da forma $u(t, x) = h(t)F(x - at)$, com $h(0) = 1$ e com $h=h(t)$ e $F=F(x)$ continuamente diferenciáveis. Determine explicitamente as funções $h=h(t)$ e $F = F(x)$."
   ]
  },
  {
   "cell_type": "markdown",
   "id": "f7fc75ce",
   "metadata": {
    "deletable": false,
    "nbgrader": {
     "cell_type": "markdown",
     "checksum": "3f472991fab737868c7e6cf1678a224b",
     "grade": true,
     "grade_id": "cell-eb632a3e247470b7",
     "locked": false,
     "points": 2,
     "schema_version": 3,
     "solution": true,
     "task": false
    }
   },
   "source": [
    "----\n",
    "Considere que:\n",
    "\n",
    "(1) $$\n",
    "    u(t, x) = h(t)F(x-at) \\ ;\n",
    "    $$\n",
    "(2) $$\\begin{cases}\n",
    "    u_t = \\dot{h}\\ F - a\\ h\\ \\dot{F}\\ ; \\\\\n",
    "    u_x = h \\ F'\\ ;\n",
    "    \\end{cases}$$\n",
    "(3) $$\n",
    "    u_t + au_x = cu\n",
    "    $$\n",
    "\n",
    "Disso segue que \n",
    "$$ h = \\frac{\\dot{h}}{c}$$\n",
    "o que, resolvendo pra $h=h(t)$, dá\n",
    "$$\n",
    "h = h_0 e^{ct}; \n",
    "$$\n",
    "aplicando a condição inicial $h_0 = h(0) = 1$ obtemos \n",
    "$$\n",
    "h(t) = e^{ct}\n",
    "$$\n",
    "\n",
    "Da equação acima, condições iniciais sobre $h$, e de (1), podemos concluir que \n",
    "$$\n",
    "u_0(x) = h(0) F(x - a t ) = F(x - a t )\n",
    "$$.\n",
    "Portanto temos $h = h(t) = e^{ct}$ e $F = F(x) = u_0(x + at)$.\n",
    "<!-- $$ -->\n",
    "<!-- u_0(x) = h(0) F(x - 0 a ) = F(x) -->\n",
    "<!-- $$. -->\n",
    "\n",
    "----"
   ]
  },
  {
   "cell_type": "markdown",
   "id": "4a16672b",
   "metadata": {
    "deletable": false,
    "editable": false,
    "nbgrader": {
     "cell_type": "markdown",
     "checksum": "27c8af82f5d3972270ea33f781ab35e3",
     "grade": false,
     "grade_id": "cell-afe611f16a461e14",
     "locked": true,
     "schema_version": 3,
     "solution": false,
     "task": false
    }
   },
   "source": [
    "## Questão 2\n",
    "\n",
    "Considere, agora, a equação de transporte\n",
    "\n",
    "$$\n",
    "u_t(t, x) + u_x(t, x) = 0, \\qquad t, x \\geq 0,\n",
    "$$\n",
    "\n",
    "com a condição inicial $u(0, x) = 1$ e a condição de contorno\n",
    "\n",
    "$$\n",
    "u(t, 0) = \\cos \\pi t.\n",
    "$$\n",
    "\n",
    "Qual o valor de $u(2, 1)?$"
   ]
  },
  {
   "cell_type": "markdown",
   "id": "d5751740",
   "metadata": {
    "deletable": false,
    "nbgrader": {
     "cell_type": "markdown",
     "checksum": "9c1e9c0bcaa6654fdd799ecc15ecc5dd",
     "grade": true,
     "grade_id": "cell-206d0fd7780b5f0c",
     "locked": false,
     "points": 2,
     "schema_version": 3,
     "solution": true,
     "task": false
    }
   },
   "source": [
    "----\n",
    "A função $u(t, x) = \\cos(\\pi (t-x))$ satisfaz a equação de transporte, e também satisfaz tanto a condição de contorno, quanto a condição inicial, para fixo $x_0 = 0$; i.e., $u(0, 0) = 1 = u(0, x) \\Big|_{x = x_0}$ e $u(t, 0) \\Big|_{t=0} = \\cos (\\pi \\ 0) = 1 = u(0,0)$. Assim $u(2, 1) = \\cos (\\pi (2-1)) = -1$.\n",
    "\n",
    "----"
   ]
  },
  {
   "cell_type": "markdown",
   "id": "7ed8bd0d",
   "metadata": {
    "deletable": false,
    "editable": false,
    "nbgrader": {
     "cell_type": "markdown",
     "checksum": "0df74c27ac4ca9176bd6d40244a4baa4",
     "grade": false,
     "grade_id": "cell-65e48c95a1a94482",
     "locked": true,
     "schema_version": 3,
     "solution": false,
     "task": false
    }
   },
   "source": [
    "## Questão 3\n",
    "\n",
    "Considere a distribuição de temperatura $u=u(t, x)$ em cada instante $t \\geq 0$ e em cada ponto $0 \\leq x \\leq L$ de uma barra de comprimento $L$. Suponha que a temperatura no extremo $x = 0$ seja mantida constante a uma temperatura $a\\mathbb{R}$ e que o extremo $x = L$ seja mantido constante a uma temperatura $b \\in \\mathbb{R}$. Suponha, ainda, que a barra seja aquecida uniformemente, a uma taxa $q > 0$. Assumindo um coeficiente de difusão $d > 0$, podemos assumir que a evolução temporal da temperatura é dada pela equação\n",
    "$$\n",
    "u_t(t, x) = d u_{xx}(t, x) + q, \\quad t \\geq 0, \\; 0 < x < L,\n",
    "$$\n",
    "com as condições de contorno\n",
    "$$\n",
    "u(t, 0) = a, \\quad u(t, L) = b.\n",
    "$$\n",
    "Encontre uma fórmula explícita $v = v(x)$ para que $v$ represente uma distribuição de temperatura *estacionária* no tempo, ou seja, tal que $u(t, x) = v(x)$ seja uma solução (estacionária) do problema."
   ]
  },
  {
   "cell_type": "markdown",
   "id": "f35791dc",
   "metadata": {
    "deletable": false,
    "nbgrader": {
     "cell_type": "markdown",
     "checksum": "4b7c77a0d42896e2e3d4adcd823568b4",
     "grade": true,
     "grade_id": "cell-ebba04bc3678b012",
     "locked": false,
     "points": 2,
     "schema_version": 3,
     "solution": true,
     "task": false
    }
   },
   "source": [
    "----\n",
    "Sendo $v = v(x)$ distribuição de temperatura estacionária no tempo e $u(t, x) = v(x)$ solução da equação $u_t = d u_{xx} + q$ com as condições de contorno dadas, tem que ser que $u_t \\equiv 0$, e, então\n",
    "$$\n",
    "u_{xx} = - \\frac{q}{d}\n",
    "$$\n",
    "Fazendo $\\alpha = \\frac{q}{d}$ e integrando em x:\n",
    "$$\n",
    "u_x - u_x \\Big|_{x = x_0} = -(\\alpha x - \\alpha x_0)\n",
    "$$\n",
    "Tomando $x_0 = 0$, temos $u_x \\Big|_{x = 0} = c_0$ e $-\\alpha x_0 = 0$, logo\n",
    "$$\n",
    "u_x = -\\alpha x + c_0\n",
    "$$\n",
    "que, integrando novamente, nos dá\n",
    "$$\\begin{align*}\n",
    "u - u \\Big|_{x = 0} &= -(\\frac{\\alpha}{2} x^2 + c_0 x - (\\frac{\\alpha}{2} x^2 + c_0 x) \\Big|_{x = 0}) = -\\frac{\\alpha}{2} x^2 - c_0 x \\\\\n",
    "u &= -\\frac{\\alpha}{2} x^2 - c_0 x + u \\Big|_{x = 0}\n",
    "\\end{align*}$$\n",
    "Observando a condição de contorno $u(t, 0) = a$, temos que $u \\Big|_{x = 0} = a$, e, portanto, a equação acima se torna:\n",
    "$$\n",
    "u(t, x) = v(x) = a -\\frac{\\alpha}{2} x^2 - c_0 x\n",
    "$$\n",
    "A outra condição de contorno, $u(t, L) = b$, restringe $c_0$ de modo que tenha que ser satisfeita:\n",
    "$$\n",
    "v(x) \\Big|_{x=L} = b\n",
    "$$\n",
    "ou seja,\n",
    "$$\n",
    "v(L) = a -\\frac{\\alpha}{2} L^2 - c_0 L = b\n",
    "$$\n",
    "Resolvendo pra $c_0$, obtemos\n",
    "$$\n",
    "c_0 = \\frac{a-b}{L} - \\frac{\\alpha}{2}L\n",
    "$$\n",
    "e, portanto, $v(x)$ é\n",
    "$$\n",
    "v(x) = a -\\frac{\\alpha}{2} x^2 - (\\frac{a-b}{L} - \\frac{\\alpha}{2}L) x\n",
    "$$\n",
    "\n",
    "----"
   ]
  },
  {
   "cell_type": "markdown",
   "id": "4a7a7097",
   "metadata": {
    "deletable": false,
    "editable": false,
    "nbgrader": {
     "cell_type": "markdown",
     "checksum": "1c4537eb7718bc81dbf2e645029f35d8",
     "grade": false,
     "grade_id": "cell-7d05b173b9c2b15c",
     "locked": true,
     "schema_version": 3,
     "solution": false,
     "task": false
    }
   },
   "source": [
    "## Questão 4\n",
    "\n",
    "Considere a equação da onda\n",
    "$$\n",
    "u_{tt}(t, x) = c^2 u_{xx}(t, x), \\qquad \\;0 \\leq x \\leq 1, \\; t \\geq 0\n",
    "$$\n",
    "com condições de contorno\n",
    "$$\n",
    "u(t, 0) = u(t, 1) = 0,\n",
    "$$\n",
    "onde $c > 0$.\n",
    "\n",
    "A série de senos no intervalo $0 \\leq x \\leq 1$ tem a forma $\\sum_{j=1}^n a_n \\sin(n\\pi x)$. Uma vantagem, nessa representação (também vale para a série de cossenos e a série de Fourier mais geral) é que os senos são invariantes pela segunda derivada. De fato, mostre que $u(t, x) = a(t) \\sin n\\pi x$, para $0 \\leq x \\leq 1$ e $t \\geq 0$, é solução da equação, para uma função $a(t)$ apropriada e condições iniciais $u(0, x)$ e $u_t(0, x)$ adequadas."
   ]
  },
  {
   "cell_type": "markdown",
   "id": "29cd4308",
   "metadata": {
    "deletable": false,
    "nbgrader": {
     "cell_type": "markdown",
     "checksum": "d93c78c79710aa46cc6afe1273be76a2",
     "grade": true,
     "grade_id": "cell-41b1838966518d65",
     "locked": false,
     "points": 2,
     "schema_version": 3,
     "solution": true,
     "task": false
    }
   },
   "source": [
    "----\n",
    "\n",
    "Fazendo $n\\pi = k$ e derivando, em relação a $t$, $u(t, x) = a(t)\\sin kx$, temos\n",
    "$$\\begin{cases}\n",
    "u_t = \\dot{a}\\sin kx \\\\\n",
    "u_{tt} = \\ddot{a}\\sin kx\n",
    "\\end{cases}$$\n",
    "\n",
    "Já derivando em relação a $x$:\n",
    "\n",
    "$$\\begin{cases}\n",
    "u_x = k a \\cos kx \\\\\n",
    "u_{xx} = -k^2 a \\sin kx\n",
    "\\end{cases}$$\n",
    "\n",
    "Substituindo as equações obtidas em $u_{tt} = c^2 u_{xx}$:\n",
    "$$\\begin{align*}\n",
    "\\ddot{a}\\sin kx &= -(ck)^2 a \\sin kx \\\\\n",
    "\\ddot{a} &= -(ck)^2 a \n",
    "\\end{align*}$$\n",
    "\n",
    "cuja solução geral é $a(t) = A \\sin (ckt) + B \\cos (ckt)$. Com isso, temos $u(t, x) = (A \\sin (ckt) + B \\cos (ckt)) (\\sin kx)$; observe que satisfaz as condições de contorno, pois $\\sin (0 n \\pi) = \\sin (1 n \\pi) = 0$, implicando $u(t, 0) = u(t, 1) = 0$. Observe, também, que, fixadas condições iniciais $u(0, x)$ e $u_t(0, x)$, obtemos $A, B$:\n",
    "$$\\begin{cases}\n",
    "u(0, x) = a(0) \\sin kx = B \\cos(0) \\sin kx = B \\sin kx \\\\\n",
    "u_t(0, x) = \\dot{a}(0) \\sin kx = A \\cos(0) \\sin kx = A \\sin kx\n",
    "\\end{cases}$$\n",
    "\n",
    "----"
   ]
  },
  {
   "cell_type": "markdown",
   "id": "0f83fa38",
   "metadata": {
    "deletable": false,
    "editable": false,
    "nbgrader": {
     "cell_type": "markdown",
     "checksum": "ab6133f7ba63d1dd8760484bc23b3b82",
     "grade": false,
     "grade_id": "cell-41b5899a348b25d9",
     "locked": true,
     "schema_version": 3,
     "solution": false,
     "task": false
    }
   },
   "source": [
    "## Questão 5\n",
    "\n",
    "Considere, agora, a equação do calor\n",
    "\n",
    "$$\n",
    "u_t(t, x) = \\lambda u_{xx}(t, x), \\qquad \\;0 \\leq x \\leq 1, \\; t \\geq 0\n",
    "$$\n",
    "com condições de contorno\n",
    "\n",
    "$$\n",
    "u(t, 0) = u(t, 1) = 0,\n",
    "$$\n",
    "onde $\\lambda > 0$.\n",
    "\n",
    "Anologamento ao caso da equação da onda, mostre que uma função da forma $u(t, x) = a(t) \\sin \\pi x + b(t) \\sin 2\\pi x$ é solução da equação do calor acima, para $a = a(t)$ e $b = b(t)$ apropriados. Supondo a condição inicial $u(t, 0) = \\sin \\pi x + 2 \\sin 2\\pi x$, determine o valor de\n",
    "$$\n",
    "\\lim_{t \\rightarrow \\infty} \\frac{b(t)}{a(t)}.\n",
    "$$"
   ]
  },
  {
   "cell_type": "markdown",
   "id": "0f3a9b74",
   "metadata": {
    "deletable": false,
    "nbgrader": {
     "cell_type": "markdown",
     "checksum": "240073587979c35c0d79a7756fc5d3cf",
     "grade": true,
     "grade_id": "cell-f7fcee0b066b7d48",
     "locked": false,
     "points": 2,
     "schema_version": 3,
     "solution": true,
     "task": false
    }
   },
   "source": [
    "----\n",
    "Observemos que $u_t - \\lambda u_{xx} = 0$ é linear e homogênea, valendo, portanto, o princípio de superposição de soluções, i.e, dadas quaisquer duas soluções $u, v$, combinações lineares das mesmas são, também, soluções. Comecemos verificando que $v(t, x) = a(t)\\sin \\pi x$ e $w(t, x) = b(t)\\sin 2\\pi x$ são, independentemente, soluções.\n",
    "\n",
    "Para $v$:\n",
    "$$\\begin{cases}\n",
    "v_t = \\dot{a} \\sin \\pi x \\\\\n",
    "v_{x} = a \\pi \\cos \\pi x \\\\\n",
    "v_{xx} = - a \\pi^2 \\sin \\pi x \n",
    "\\end{cases}$$\n",
    "que, substituídas em $u_t = \\lambda u_{xx}$, dão\n",
    "$$\\begin{align*}\n",
    "\\dot{a} \\sin \\pi x &= - a \\pi^2 \\sin \\pi x \\\\\n",
    "\\dot{a} &= - \\pi^2 a\n",
    "\\end{align*}$$\n",
    "\n",
    "Para $w$ vale\n",
    "$$\\begin{cases}\n",
    "w_t = \\dot{b} \\sin 2\\pi x \\\\\n",
    "w_{x} = b 2\\pi \\cos 2 \\pi x \\\\\n",
    "w_{xx} = - b (2\\pi)^2 \\sin 2 \\pi x \n",
    "\\end{cases}$$\n",
    "então $u_t = \\lambda u_{xx}$ dá: \n",
    "$$\\begin{align*}\n",
    "\\dot{b} \\sin 2\\pi x &= - b (2\\pi)^2 \\sin 2\\pi x \\\\\n",
    "\\dot{b} &= - (2\\pi)^2 b = - 4 \\pi^2 b\n",
    "\\end{align*}$$\n",
    "que resolvem-se por \n",
    "\n",
    "$$\\begin{cases}\n",
    "a(t) = a_0 \\exp(-\\lambda \\pi^2 t) \\\\\n",
    "b(t) = b_0 \\exp(-\\lambda (2\\pi)^2 t)\n",
    "\\end{cases}$$\n",
    "\n",
    "Temos, portanto, $u(t, x) = v(t, x) + w(t, x) = a(t)\\sin \\pi x + b(t)\\sin 2\\pi x$, com as $a(t), b(t)$ acima, i.e,\n",
    "$$\\begin{cases}\n",
    "v(t, x) = a_0 \\exp(-\\lambda \\pi^2 t) \\sin \\pi x \\\\\n",
    "w(t, x) = b_0 \\exp(-\\lambda (2\\pi)^2 t) \\sin 2 \\pi x \\\\\n",
    "\\end{cases}$$\n",
    "e\n",
    "$$\n",
    "u(t, x) = a_0 \\exp(-\\lambda \\pi^2 t) \\sin \\pi x + b_0 \\exp(-\\lambda (2\\pi)^2 t) \\sin 2 \\pi x\n",
    "$$\n",
    "que é solução por ser combinação linear das soluções $v, w$.\n",
    "\n",
    "Considerada a condição inicial $u(0, x) = \\sin \\pi x + 2 \\sin 2\\pi x$, temos que $a_0 = 1$ e $b_0 = 2$. Tomando o limite, ficamos com \n",
    "$$\n",
    "\\lim_{t\\rightarrow \\infty} \\frac{2 \\exp(-\\lambda (2\\pi)^2 t) }{\\exp(-\\lambda \\pi^2 t) }\n",
    "$$\n",
    "i.e,\n",
    "$$\n",
    "\\lim_{t\\rightarrow \\infty} \\frac{\\exp(\\lambda \\pi^2 t) }{2 \\exp(\\lambda (2\\pi)^2 t)  } = 0\n",
    "$$\n",
    "\n",
    "----"
   ]
  },
  {
   "cell_type": "markdown",
   "id": "cea5801f",
   "metadata": {
    "deletable": false,
    "editable": false,
    "nbgrader": {
     "cell_type": "markdown",
     "checksum": "1f69fc3395980f72f4724845369b5282",
     "grade": false,
     "grade_id": "cell-480819fe14d263d9",
     "locked": true,
     "schema_version": 3,
     "solution": false,
     "task": false
    }
   },
   "source": [
    "## Questão 6\n",
    "\n",
    "Considere a equação da onde bidimensional\n",
    "\n",
    "$$\n",
    "u_{tt}(t, x, y) = c^2\\Delta u(t, x, y),\n",
    "$$\n",
    "onde\n",
    "\n",
    "$$\n",
    "\\Delta u(t, x, y) = u_{xx}(t, x, y) + u_{yy}(t, x, y)\n",
    "$$\n",
    "\n",
    "Uma **onde planar** é uma solução da forma $u(t, x, y) = v(t, ax + by + d)$, onde $a, b, d\\in \\mathbb{R}$. Sem perda de generalidade, podemos assumir que $a^2 + b^2 = 1$. Uma onda planar é dita **estacionária** quando $v$ é da forma $v(t, s) = h(t) w(s)$. Suponde $h(t) = \\sin(\\omega t)$ e $w(s) = \\sin(\\lambda s)$, encontre uma relação algébrica entre $\\omega$, $\\lambda$ e $c$."
   ]
  },
  {
   "cell_type": "markdown",
   "id": "246f6273",
   "metadata": {
    "deletable": false,
    "nbgrader": {
     "cell_type": "markdown",
     "checksum": "af3e9be66e73714ba085666e20076946",
     "grade": true,
     "grade_id": "cell-99972455bb33c640",
     "locked": false,
     "points": 2,
     "schema_version": 3,
     "solution": true,
     "task": false
    }
   },
   "source": [
    "YOUR ANSWER HERE"
   ]
  }
 ],
 "metadata": {
  "kernelspec": {
   "display_name": "Julia 1.6.2",
   "language": "julia",
   "name": "julia-1.6"
  },
  "language_info": {
   "file_extension": ".jl",
   "mimetype": "application/julia",
   "name": "julia",
   "version": "1.7.2"
  }
 },
 "nbformat": 4,
 "nbformat_minor": 5
}
