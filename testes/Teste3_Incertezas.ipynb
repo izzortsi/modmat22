{
 "cells": [
  {
   "cell_type": "markdown",
   "id": "a2d9bf30",
   "metadata": {
    "deletable": false,
    "editable": false,
    "nbgrader": {
     "cell_type": "markdown",
     "checksum": "1d2de9e210a518058f34285e03a9fbb4",
     "grade": false,
     "grade_id": "cell-23e6cea9f415206c",
     "locked": true,
     "schema_version": 3,
     "solution": false,
     "task": false
    }
   },
   "source": [
    "# Teste 3 - Incertezas\n",
    "\n",
    "Responda às questões abaixo.\n",
    "\n",
    "Não crie novas células nem apague células existentes. Apenas responda nas células indicadas.\n",
    "\n",
    "Escreva o texto em Markdown e LaTeX, conforme instruções em [Jupyter - Markdown cells](https://jupyter-notebook.readthedocs.io/en/stable/examples/Notebook/Working%20With%20Markdown%20Cells.html), e escreva os códigos em [Julia](https://julialang.org).\n",
    "\n",
    "Apenas os pacotes indicados na célula abaixo podem ser utilizados para responder às questões cujas respostas requerem códigos."
   ]
  },
  {
   "cell_type": "code",
   "execution_count": 1,
   "id": "0f62e284",
   "metadata": {
    "deletable": false,
    "editable": false,
    "nbgrader": {
     "cell_type": "code",
     "checksum": "a0b02c714d5ea4b86caa270103311eb0",
     "grade": false,
     "grade_id": "cell-8023b5c1a484b15f",
     "locked": true,
     "schema_version": 3,
     "solution": false,
     "task": false
    }
   },
   "outputs": [],
   "source": [
    "using LsqFit\n",
    "using Plots\n",
    "using Random\n",
    "import Distributions: mean, var, quantile, MvNormal"
   ]
  },
  {
   "cell_type": "markdown",
   "id": "8dffbce5",
   "metadata": {
    "deletable": false,
    "editable": false,
    "nbgrader": {
     "cell_type": "markdown",
     "checksum": "7a1783a454b386f00049f1cd95136a6c",
     "grade": false,
     "grade_id": "cell-e715126fba93062e",
     "locked": true,
     "schema_version": 3,
     "solution": false,
     "task": false
    }
   },
   "source": [
    "## Questão 1\n",
    "\n",
    "Considere um conjunto de apenas dois dados $(x_i, y_i) \\in \\mathbb{R}^2$, $i = 1, 2$, para o qual buscamos ajustar um modelo linear com parâmetros reais $\\boldsymbol\\beta = (\\beta_0, \\beta_1)$:\n",
    "\n",
    "$$ y = \\beta_0  + \\beta_1 x.\n",
    "$$\n",
    "\n",
    "Assumindo que as incertezas $\\epsilon_i$, $i=1, 2$, nas medições de $y \\sim y_i + \\epsilon_i$ são independentes entre si e dadas por uma normal com média zero e mesmo desvio-padrão $\\sigma$, responda às seguintes perguntas, em cada uma das células abaixo:\n",
    "\n",
    "i) Escreva a matrix de variância-covariância $\\operatorname{Cov}(\\boldsymbol\\beta)$ explicitamente em função de $x_1$, $x_2$ e $\\sigma$;\n",
    "\n",
    "ii) Mostre que a variância (que é o vetor $\\mathrm{Var}(\\boldsymbol\\beta) = \\mathrm{diag}(\\mathrm{Cov}(\\boldsymbol\\beta))$) diverge quando $x_2 - x_1 \\rightarrow 0$ (i.e. a norma Euclidiana de $\\mathrm{Var}(\\boldsymbol\\beta)$ tende a $+\\infty$), significando que a incerteza aumenta indefinidamente."
   ]
  },
  {
   "cell_type": "markdown",
   "id": "f2f0939f",
   "metadata": {
    "deletable": false,
    "nbgrader": {
     "cell_type": "markdown",
     "checksum": "05b945672bf8824388a82b520c08bf52",
     "grade": true,
     "grade_id": "cell-e7210871f4e1e805",
     "locked": false,
     "points": 2,
     "schema_version": 3,
     "solution": true,
     "task": false
    }
   },
   "source": [
    "----\n",
    "Como $y \\sim y_i + \\epsilon_i$, reescrevemos o modelo por\n",
    "$$\n",
    "y_i = \\beta_0 + \\beta_1 x_i - \\epsilon_i\n",
    "$$\n",
    "que, matricialmente, é representado pela equação\n",
    "$$\n",
    "\\mathrm{y} = \\mathrm{X}\\boldsymbol{\\beta} - \\boldsymbol\\epsilon\n",
    "$$\n",
    "com $\\mathrm{y} = [y_j] \\in \\mathbb{M}_{j \\times 1}$, $\\boldsymbol\\epsilon = [\\epsilon_j]\\in \\mathbb{M}_{j \\times 1}$ e $\\mathrm X$ sendo matriz de Vandermonde.\n",
    "Sabemos que, sob essas hipóteses, $\\operatorname{Cov}(\\boldsymbol\\beta) = \\sigma^2 (\\mathrm{X}^T \\mathrm{X})^{-1}$. Assim, temos:\n",
    "$$\n",
    "\\mathrm{X}^T \\mathrm{X} = \\begin{bmatrix} 2 & x_1 + x_2 \\\\ x_1 + x_2 & x_1^2 + x_2^2 \\end{bmatrix}\n",
    "$$\n",
    "cuja inversa (fiz no SymPy) é:\n",
    "$$\n",
    "(\\mathrm{X}^T \\mathrm{X})^{-1} = \\frac{1}{(x_1 - x_2)^2}\\begin{bmatrix} x_1^2 + x_2^2 & -(x_1 + x_2) \\\\ -(x_1 + x_2) & 2 \\end{bmatrix}\n",
    "$$\n",
    "logo \n",
    "$$\n",
    "\\operatorname{Cov}(\\boldsymbol\\beta) =  \\frac{\\sigma^2}{(x_1 - x_2)^2}\\begin{bmatrix} x_1^2 + x_2^2 & -(x_1 + x_2) \\\\ -(x_1 + x_2) & 2 \\end{bmatrix}\n",
    "$$\n",
    "\n",
    "----"
   ]
  },
  {
   "cell_type": "markdown",
   "id": "62216aa5",
   "metadata": {
    "deletable": false,
    "nbgrader": {
     "cell_type": "markdown",
     "checksum": "4ae15831ebadccd4f83f693b86773808",
     "grade": true,
     "grade_id": "cell-92cf7942af2973ed",
     "locked": false,
     "points": 2,
     "schema_version": 3,
     "solution": true,
     "task": false
    }
   },
   "source": [
    "Com a expressão acima encontrada pra $\\operatorname{Cov}(\\boldsymbol\\beta)$ escrevemos $\\operatorname{Var}(\\boldsymbol\\beta) = \\frac{\\sigma^2}{(x_1 - x_2)^2} ( x_1^2 + x_2^2, 2) = \\alpha \\mathbf{v}$, cuja norma tem forma $\\| \\alpha \\mathrm{v} \\| = \\sqrt{\\alpha^2 (\\mathrm{v} \\cdot \\mathrm{v})} = \\alpha\\sqrt{ (\\mathrm{v} \\cdot \\mathrm{v})}$. Isso dá\n",
    "$$\n",
    "\\alpha\\sqrt{ (x_1^2 + x_2^2)^2 + 2(2(x_1^2 + x_2^2)) + 2^2}\n",
    "$$\n",
    "que, quando $|x_1 - x_2| \\rightarrow 0$, dá\n",
    "$$\n",
    "\\alpha\\sqrt{ (2 x_1^2)^2 + 2(2(2 x_1^2)) + 2^2} = 2\\alpha\\sqrt{ x_1^4 + 2 x_1^2 + 1}\n",
    "$$\n",
    "que é constante, enquanto o denominador de $\\alpha$ vai a zero. Logo\n",
    "$$\\begin{align*}\n",
    "&\\lim_{|x_1 - x_2| \\rightarrow 0} \\frac{2 \\sigma^2}{(x_1 - x_2)^2}\\sqrt{ (x_1^2 + x_2^2)^2 + 2(2(x_1^2 + x_2^2)) + 2^2} = \\\\\n",
    "= \\Big(&\\lim_{|x_1 - x_2| \\rightarrow 0} \\frac{2 \\sigma^2}{(x_1 - x_2)^2}\\Big)\\cdot \\Big(\\lim_{|x_1 - x_2| \\rightarrow 0} \\sqrt{ (x_1^2 + x_2^2)^2 + 2(2(x_1^2 + x_2^2)) + 2^2}\\Big) \\\\\n",
    "=\\Big(&\\lim_{|x_1 - x_2| \\rightarrow 0} \\frac{2 \\sigma^2}{(x_1 - x_2)^2}\\Big)\\cdot\\sqrt{ x_1^4 + 2 x_1^2 + 1} = +\\infty\n",
    "\\end{align*}$$\n",
    "\n",
    "----"
   ]
  },
  {
   "cell_type": "markdown",
   "id": "5320123f",
   "metadata": {
    "deletable": false,
    "editable": false,
    "nbgrader": {
     "cell_type": "markdown",
     "checksum": "50eaf890bfc63ce91f392a87309ec3a8",
     "grade": false,
     "grade_id": "cell-e5cc0e14bbb9881f",
     "locked": true,
     "schema_version": 3,
     "solution": false,
     "task": false
    }
   },
   "source": [
    "## Questão 2\n",
    "\n",
    "Considerando o conteúdo do caderno \"6.1 - Qualidade do ajuste\", mostre a relação $\\mathrm{SS}_{\\mathrm{reg}}= \\mathrm{SS}_{\\mathrm{tot}} − \\mathrm{SS}_{\\mathrm{res}}$ sob as condições mencionadas no texto, i.e:\n",
    "\n",
    "1. O modelo $f_{\\boldsymbol \\beta} =f_{\\boldsymbol \\beta}(x)$ é linear nos parâmetros $\\boldsymbol\\beta$;\n",
    "\n",
    "1. A média $\\bar y$ pode ser descrita pelo modelo com uma escolha apropriada $\\bar{\\boldsymbol \\beta}$ dos parâmetros, com $\\bar y = f_{\\bar{\\boldsymbol β}}(x)$, independente de x; e\n",
    "\n",
    "1. O ajuste é feito minimizando-se o erro quadrático dos resíduos."
   ]
  },
  {
   "cell_type": "markdown",
   "id": "7d66c995",
   "metadata": {
    "deletable": false,
    "nbgrader": {
     "cell_type": "markdown",
     "checksum": "a6b6ab7f3dd70766c58c4ffc031edf11",
     "grade": true,
     "grade_id": "cell-07450886714e8af4",
     "locked": false,
     "points": 4,
     "schema_version": 3,
     "solution": true,
     "task": false
    }
   },
   "source": [
    "YOUR ANSWER HERE"
   ]
  },
  {
   "cell_type": "markdown",
   "id": "74234eca",
   "metadata": {
    "deletable": false,
    "editable": false,
    "nbgrader": {
     "cell_type": "markdown",
     "checksum": "fa9df94d0ebb4c215d1832cb67ca64a9",
     "grade": false,
     "grade_id": "cell-f31973f0f40a5a8f",
     "locked": true,
     "schema_version": 3,
     "solution": false,
     "task": false
    }
   },
   "source": [
    "## Questão 3\n",
    "\n",
    "Em uma epidemia de influenza, em um internato no Reino Unido, foram registrados os seguintes números de casos, ao longo de quase duas semanas\n",
    "\n",
    "| Dia | Infectados |\n",
    "|:---:|: --- :|\n",
    "| 1 | 1 |\n",
    "| 2 | 3 |\n",
    "| 3 | 7 |\n",
    "| 4 | 25 |\n",
    "| 5 | 72 |\n",
    "| 6 | 222 |\n",
    "| 7 | 282 |\n",
    "| 8 | 256 |\n",
    "| 9 | 233 |\n",
    "| 10 | 189 |\n",
    "| 11 | 123 |\n",
    "| 12 | 70 |\n",
    "| 13 | 25 |\n",
    "| 14 | 11 |\n",
    "| 15 | 4 |\n",
    "\n",
    "Considere um modelo da forma\n",
    "$$\n",
    "f_\\beta(x) = \\beta_1 e^{-\\displaystyle\\frac{(x - \\beta_2)^2}{\\beta_3}}.\n",
    "$$\n",
    "\n",
    "Nas células seguintes, faça\n",
    "\n",
    "i) Um ajuste do modelo aos dados, via `LsqFit.jl`, encontrando os devidos parâmetros $\\beta = (\\beta_1, \\beta_2, \\beta_3)$ que minimizam a soma dos quadrados dos resíduos do modelo em relação aos dados;\n",
    "\n",
    "ii) Uma simulação de Monte Carlo, com 400 amostras retiradas de uma distribuição normal multivariada obtida a partir da matriz de covariância das incertezas nos parâmetros (assumindo erros normais independentes e identicamente distribuídos, como fizemos em aula). Exiba um gráfico com os dados e os resultados das diversas simulações;\n",
    "\n",
    "iii) Utilizando o resultado das simulações de Monte-Carlo, faça um gráfico exibindo os dados e o intervalo de confiança de 95%."
   ]
  },
  {
   "cell_type": "code",
   "execution_count": null,
   "id": "a9b76754",
   "metadata": {
    "deletable": false,
    "nbgrader": {
     "cell_type": "code",
     "checksum": "3b4dcaa617d7e1b3c59fb94190989996",
     "grade": true,
     "grade_id": "cell-6e7c94dca08c91b4",
     "locked": false,
     "points": 2,
     "schema_version": 3,
     "solution": true,
     "task": false
    }
   },
   "outputs": [],
   "source": [
    "# ESCREVA A SUA RESPOSTA PARA O ITEM i) DA QUESTÃO 3 NESTA CÉLULA\n",
    "    \n",
    "amostra_dias = collect(1:15)\n",
    "amostra_infectados = [1, 3, 7, 25, 72, 222, 282, 256, 233, 189, 123, 70, 25, 11, 4]\n",
    "\n",
    "t = range(0.0, 20.0, length = 200)\n",
    "\n",
    "# Defina o modelo `model(d, β)`, faça o ajuste e trace o resultado\n",
    "\n",
    "# YOUR CODE HERE\n",
    "\n",
    "plot(t, d -> model(d, β_fit), label = \"ajuste\")\n",
    "scatter!(amostra_dias, amostra_infectados, label = \"dados\")"
   ]
  },
  {
   "cell_type": "code",
   "execution_count": null,
   "id": "da5fce6d",
   "metadata": {
    "deletable": false,
    "nbgrader": {
     "cell_type": "code",
     "checksum": "b95593f95cc5869198809a874d35f22e",
     "grade": true,
     "grade_id": "cell-6a597e5f8793424b",
     "locked": false,
     "points": 2,
     "schema_version": 3,
     "solution": true,
     "task": false
    }
   },
   "outputs": [],
   "source": [
    "# ESCREVA A SUA RESPOSTA PARA O ITEM ii) DA QUESTÃO 3 NESTA CÉLULA\n",
    "\n",
    "num_amostras = 400\n",
    "simulations = fill(0.0, length(t), num_amostras)\n",
    "\n",
    "# Faça as simulações e exiba o resultado\n",
    "\n",
    "# YOUR CODE HERE"
   ]
  },
  {
   "cell_type": "code",
   "execution_count": null,
   "id": "9c4d7c61",
   "metadata": {
    "deletable": false,
    "nbgrader": {
     "cell_type": "code",
     "checksum": "5efbffa0971b452f05ccb214e7da8b6e",
     "grade": true,
     "grade_id": "cell-8435f40a111a0f96",
     "locked": false,
     "points": 2,
     "schema_version": 3,
     "solution": true,
     "task": false
    }
   },
   "outputs": [],
   "source": [
    "# ESCREVA A SUA RESPOSTA PARA O ITEM iii) DA QUESTÃO 3 NESTA CÉLULA\n",
    "\n",
    "# YOUR CODE HERE"
   ]
  }
 ],
 "metadata": {
  "kernelspec": {
   "display_name": "Julia 1.7.3",
   "language": "julia",
   "name": "julia-1.7"
  },
  "language_info": {
   "file_extension": ".jl",
   "mimetype": "application/julia",
   "name": "julia",
   "version": "1.7.3"
  }
 },
 "nbformat": 4,
 "nbformat_minor": 5
}
